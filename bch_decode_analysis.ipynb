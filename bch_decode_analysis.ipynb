{
 "cells": [
  {
   "cell_type": "code",
   "execution_count": 1,
   "metadata": {},
   "outputs": [],
   "source": [
    "import numpy as np\n",
    "import pandas as pd\n",
    "from bch import BCH\n",
    "import matplotlib.pyplot as plt\n",
    "from datetime import datetime\n",
    "%matplotlib inline"
   ]
  },
  {
   "cell_type": "code",
   "execution_count": 3,
   "metadata": {},
   "outputs": [],
   "source": [
    "assume = lambda x: 0 if abs(x - 0) < abs(x - 1) else 1\n",
    "wherediff = lambda a, b: np.where(a != b)[0]\n",
    "gen_noise = lambda shape, amt: (np.random.rand(*shape) - 0.5) * amt"
   ]
  },
  {
   "cell_type": "code",
   "execution_count": 4,
   "metadata": {},
   "outputs": [],
   "source": [
    "def gen_U_eqbits(n_msg, k):\n",
    "    \"\"\"\n",
    "    сгенерировать м-цу из n_msg сбщ длины k,\n",
    "    в которой значения 0 и 1 распределены равномерно\n",
    "    \"\"\"\n",
    "    return np.random.choice(2, (n_msg, k))\n",
    "\n",
    "def gen_U_eqnorms(n_msg, k):\n",
    "    \"\"\"\n",
    "    сгенерировать м-цу из n_msg сбщ длины k,\n",
    "    в которой кол-ва единиц в одном сообщении распределены равномерно\n",
    "    \n",
    "    но во всей матрице в итоге биты встречаются с одинаковой вероятностью\n",
    "    \"\"\"\n",
    "    n_ones_list = np.random.randint(0, k + 1, n_msg)\n",
    "    U = np.array([\n",
    "        np.concatenate((np.ones(n_ones, dtype=int),\n",
    "                        np.zeros(k - n_ones, dtype=int)))\n",
    "        for n_ones in n_ones_list\n",
    "    ])\n",
    "    for u in U:\n",
    "        np.random.shuffle(u)\n",
    "    return U"
   ]
  },
  {
   "cell_type": "code",
   "execution_count": 5,
   "metadata": {},
   "outputs": [],
   "source": [
    "def get_amt_for_t(n, amt_range, percent, n_tests=10000):\n",
    "    \"\"\"\n",
    "    решается задача: подбирать для заданного t такое значение мощности шума,\n",
    "    чтобы примерно в percent % сообщений было до t ошибок (а в остальных - больше t)\n",
    "    \n",
    "    функция возвращает два вектора:\n",
    "    amt_for_t - вектор amt, соответствующих t=0,1,... (до последнего amt в amt_range)\n",
    "    t_for_amt - вектор соответствующих t для элементов из amt_range\n",
    "      (amt_range - возрастающая посл-ть значений amt)\n",
    "    \"\"\"\n",
    "    V = gen_U_eqnorms(n_tests, n)\n",
    "    t_for_amt = []\n",
    "    t = -1\n",
    "    for amt in amt_range:\n",
    "        noise = gen_noise((n_tests, n), amt)\n",
    "        W = np.vectorize(assume)(V + noise)\n",
    "        n_err_list = [len(wherediff(v, w)) for v, w in zip(V, W)]\n",
    "        t = max(t, np.percentile(n_err_list, percent))\n",
    "        t_for_amt.append(t)\n",
    "        print('.', end='')\n",
    "    print('*')\n",
    "    t_for_amt = np.array(t_for_amt).astype(int)\n",
    "    max_t = t_for_amt[-1]\n",
    "    amt_for_t = np.array(amt_range)[\n",
    "        [np.searchsorted(t_for_amt, j, 'left')\n",
    "         for j in range(max_t + 1)]\n",
    "    ]\n",
    "    return amt_for_t, t_for_amt"
   ]
  },
  {
   "cell_type": "code",
   "execution_count": 6,
   "metadata": {},
   "outputs": [],
   "source": [
    "def trim_err(W, V, t):\n",
    "    # W - зашумленная версия V\n",
    "    # вернуть копию W, в которой число ошибок в каждом сообщении <= t\n",
    "    #   (для этого в сообщениях с большим числом ошибок исправляется столько\n",
    "    #   ошибок, чтобы всего было ровно t)\n",
    "    W_ = np.copy(W)\n",
    "#     n_overdrives = 0\n",
    "    for i, (v, w) in enumerate(zip(V, W_)):\n",
    "        err_idx = wherediff(v, w)\n",
    "        n_err = len(err_idx)\n",
    "        if n_err > t:\n",
    "#             n_overdrives += 1\n",
    "            np.random.shuffle(err_idx)\n",
    "            W_[i, err_idx[t : ]] ^= 1\n",
    "            n_err = t\n",
    "            if len(wherediff(v, W_[i])) != t:\n",
    "                raise Exception(\"programmer error\")\n",
    "#     print(\"n_overdrives / n_msg:\", n_overdrives / len(W))\n",
    "    return W_"
   ]
  },
  {
   "cell_type": "code",
   "execution_count": 7,
   "metadata": {},
   "outputs": [],
   "source": [
    "def count_overdrives(W, V, t):\n",
    "    n_err_list = np.array([len(wherediff(v, w)) for v, w in zip(V, W)])\n",
    "    n_overdrives = (n_err_list > t).sum()\n",
    "    return n_overdrives"
   ]
  },
  {
   "cell_type": "code",
   "execution_count": 8,
   "metadata": {},
   "outputs": [],
   "source": [
    "def decoders_test(n_list, n_msg, amt_for_t, df_for_n, trim=True):\n",
    "    chars = []\n",
    "    for n, amt_for_t in zip(n_list, amt_for_t_for_n):\n",
    "        t_values = df_for_n.get_group(n).t.values\n",
    "        max_t = len(amt_for_t) - 1\n",
    "        t_values = t_values[:-1]\n",
    "        t_values = t_values[t_values <= max_t]\n",
    "        amts = amt_for_t[t_values]\n",
    "        bch = None\n",
    "        for t, amt in zip(t_values, amts):\n",
    "            np.random.seed(123)\n",
    "            bch_copy = bch\n",
    "            bch = BCH(n, t, ref=bch_copy)\n",
    "            k = bch.k\n",
    "            print(f\"n = {n}, t = {t}, k = {k}, speed = {k/n:.2} ({k}/{n})\")\n",
    "            U = gen_U_eqnorms(n_msg, k)\n",
    "            V = bch.encode(U)\n",
    "            noise = gen_noise((n_msg, n), amt)\n",
    "            W = np.vectorize(assume)(V + noise)\n",
    "            if trim:\n",
    "                W = trim_err(W, V, t)\n",
    "                n_overdrives = 0\n",
    "            else:\n",
    "                n_overdrives = count_overdrives(W, V, t)\n",
    "                print(\"n_overdrives =\", n_overdrives)\n",
    "            Vd1 = bch.decode(W, method='pgz')\n",
    "            time_pgz = bch.time\n",
    "            Vd2 = bch.decode(W, method='euclid')\n",
    "            time_euclid = bch.time\n",
    "            bch_char = [(n, t), n_overdrives, [0,0,0], [0,0,0], time_pgz, time_euclid]\n",
    "            for vd1, vd2, v in zip(Vd1, Vd2, V):\n",
    "                for met_char, vd, method in zip(bch_char[2:4], [vd1, vd2], ['pgz', 'euclid']):\n",
    "                    if np.isnan(vd).any():\n",
    "                        met_char[2] += 1\n",
    "                    else: \n",
    "                        if np.array_equal(vd, v):\n",
    "                            met_char[0] += 1\n",
    "                        else:\n",
    "                            met_char[1] += 1\n",
    "            chars.append(bch_char)\n",
    "            print(bch_char)\n",
    "            print()\n",
    "    return chars"
   ]
  },
  {
   "cell_type": "code",
   "execution_count": 9,
   "metadata": {},
   "outputs": [],
   "source": [
    "def decoders_err_hist(n_list, n_msg, amt_for_t, df_for_n, trim=True, text=None):\n",
    "    chars = []\n",
    "    for n, amt_for_t in zip(n_list, amt_for_t_for_n):\n",
    "        t_values = df_for_n.get_group(n).t.values\n",
    "        max_t = len(amt_for_t) - 1\n",
    "        t_values = t_values[:-1]\n",
    "        t_values = t_values[t_values <= max_t]\n",
    "        amts = amt_for_t[t_values]\n",
    "        bch = None\n",
    "        for t, amt in zip(t_values, amts):\n",
    "            np.random.seed(123)\n",
    "            bch_copy = bch\n",
    "            bch = BCH(n, t, ref=bch_copy)\n",
    "            k = bch.k\n",
    "            U = gen_U_eqnorms(n_msg, k)\n",
    "            V = bch.encode(U)\n",
    "            noise = gen_noise((n_msg, n), amt)\n",
    "            W = np.vectorize(assume)(V + noise)\n",
    "            if trim:\n",
    "                W = trim_err(W, V, t)\n",
    "                n_overdrives = 0\n",
    "            else:\n",
    "                n_overdrives = count_overdrives(W, V, t)\n",
    "            n_err_list = np.array([len(wherediff(v, w)) for v, w in zip(V, W)]).astype(int)\n",
    "            hist_end = max(max(n_err_list), 4 * t)\n",
    "            plt.figure(figsize=(5,5))\n",
    "            plt.hist(n_err_list, bins=max(n_err_list) - min(n_err_list))\n",
    "            plt.xlabel(f'n={n}, t={t}' + (f' ({text})' if text is not None else ''))\n",
    "            plt.xticks(range(0, hist_end), labels=[f't={t}' if x == t else '' for x in range(0, hist_end)])\n",
    "            plt.axvline(x=t, color='purple')"
   ]
  },
  {
   "cell_type": "code",
   "execution_count": 10,
   "metadata": {},
   "outputs": [
    {
     "data": {
      "text/html": [
       "<div>\n",
       "<style scoped>\n",
       "    .dataframe tbody tr th:only-of-type {\n",
       "        vertical-align: middle;\n",
       "    }\n",
       "\n",
       "    .dataframe tbody tr th {\n",
       "        vertical-align: top;\n",
       "    }\n",
       "\n",
       "    .dataframe thead th {\n",
       "        text-align: right;\n",
       "    }\n",
       "</style>\n",
       "<table border=\"1\" class=\"dataframe\">\n",
       "  <thead>\n",
       "    <tr style=\"text-align: right;\">\n",
       "      <th></th>\n",
       "      <th>n</th>\n",
       "      <th>k</th>\n",
       "      <th>t</th>\n",
       "      <th>speed</th>\n",
       "      <th>g</th>\n",
       "    </tr>\n",
       "  </thead>\n",
       "  <tbody>\n",
       "    <tr>\n",
       "      <th>0</th>\n",
       "      <td>7</td>\n",
       "      <td>4</td>\n",
       "      <td>1</td>\n",
       "      <td>0.571429</td>\n",
       "      <td>B</td>\n",
       "    </tr>\n",
       "    <tr>\n",
       "      <th>1</th>\n",
       "      <td>7</td>\n",
       "      <td>1</td>\n",
       "      <td>3</td>\n",
       "      <td>0.142857</td>\n",
       "      <td>7F</td>\n",
       "    </tr>\n",
       "    <tr>\n",
       "      <th>2</th>\n",
       "      <td>15</td>\n",
       "      <td>11</td>\n",
       "      <td>1</td>\n",
       "      <td>0.733333</td>\n",
       "      <td>13</td>\n",
       "    </tr>\n",
       "    <tr>\n",
       "      <th>3</th>\n",
       "      <td>15</td>\n",
       "      <td>7</td>\n",
       "      <td>2</td>\n",
       "      <td>0.466667</td>\n",
       "      <td>1D1</td>\n",
       "    </tr>\n",
       "    <tr>\n",
       "      <th>4</th>\n",
       "      <td>15</td>\n",
       "      <td>5</td>\n",
       "      <td>3</td>\n",
       "      <td>0.333333</td>\n",
       "      <td>537</td>\n",
       "    </tr>\n",
       "  </tbody>\n",
       "</table>\n",
       "</div>"
      ],
      "text/plain": [
       "    n   k  t     speed    g\n",
       "0   7   4  1  0.571429    B\n",
       "1   7   1  3  0.142857   7F\n",
       "2  15  11  1  0.733333   13\n",
       "3  15   7  2  0.466667  1D1\n",
       "4  15   5  3  0.333333  537"
      ]
     },
     "execution_count": 10,
     "metadata": {},
     "output_type": "execute_result"
    }
   ],
   "source": [
    "df = pd.read_csv(\"bch_table.csv\", sep=',', index_col=0)\n",
    "df_for_n = df.groupby(df.n)\n",
    "df.head()"
   ]
  },
  {
   "cell_type": "code",
   "execution_count": 6,
   "metadata": {},
   "outputs": [],
   "source": [
    "n_msg = 10000 # для всех трех тестов"
   ]
  },
  {
   "cell_type": "code",
   "execution_count": 86,
   "metadata": {
    "scrolled": false
   },
   "outputs": [
    {
     "name": "stdout",
     "output_type": "stream",
     "text": [
      "..............................................................*\n",
      "..............................................................*\n",
      "..............................................................*\n",
      "..............................................................*\n"
     ]
    },
    {
     "data": {
      "text/plain": [
       "<matplotlib.legend.Legend at 0x7f03af1409e8>"
      ]
     },
     "execution_count": 86,
     "metadata": {},
     "output_type": "execute_result"
    },
    {
     "data": {
      "image/png": "[encoded data removed]",
      "text/plain": [
       "<Figure size 1080x360 with 1 Axes>"
      ]
     },
     "metadata": {
      "needs_background": "light"
     },
     "output_type": "display_data"
    }
   ],
   "source": [
    "# первый тест - выбираем перцентиль 99\n",
    "#   и исправляем лишние ошибки\n",
    "percent = 99\n",
    "n_list = [7, 15, 31, 63]\n",
    "plt.figure(figsize=(15,5))\n",
    "amt_for_t_for_n = []\n",
    "for n in n_list:\n",
    "    amts = np.concatenate((\n",
    "        np.arange(1, 1.10, 0.0125),\n",
    "        np.arange(1.10, 3.75, 0.05)\n",
    "    ))\n",
    "    amt_for_t, t_for_amt = get_amt_for_t(\n",
    "        n=n,\n",
    "        amt_range=amts,\n",
    "        percent=percent,\n",
    "        n_tests=10000,\n",
    "    )\n",
    "    plt.step(amts, t_for_amt / n, label=f'n={n}')\n",
    "    amt_for_t_for_n.append(amt_for_t)\n",
    "plt.xlabel('amt')\n",
    "plt.ylabel('t / n')\n",
    "plt.legend()"
   ]
  },
  {
   "cell_type": "code",
   "execution_count": 87,
   "metadata": {
    "scrolled": true
   },
   "outputs": [
    {
     "name": "stdout",
     "output_type": "stream",
     "text": [
      "[1.     1.0125 1.05   1.2    1.45   1.85   3.4   ]\n",
      "[1.     1.0125 1.025  1.075  1.15   1.25   1.4    1.6    1.9    2.25\n",
      " 3.05  ]\n",
      "[1.     1.0125 1.0125 1.0375 1.0625 1.1    1.15   1.2    1.3    1.35\n",
      " 1.45   1.55   1.65   1.8    1.95   2.25   2.6    3.     3.6   ]\n",
      "[1.     1.0125 1.0125 1.025  1.0375 1.05   1.0625 1.0875 1.15   1.15\n",
      " 1.2    1.2    1.25   1.25   1.3    1.35   1.4    1.45   1.5    1.55\n",
      " 1.6    1.7    1.75   1.9    2.     2.1    2.2    2.35   2.45   2.7\n",
      " 2.9    3.2    3.5   ]\n",
      "\n",
      "6 [1 3]\n",
      "10 [1 2 3 7]\n",
      "18 [ 1  2  3  5  7 15]\n",
      "32 [ 1  2  3  4  5  6  7 10 11 13 15 31]\n"
     ]
    }
   ],
   "source": [
    "print(*amt_for_t_for_n, sep='\\n')\n",
    "print()\n",
    "for n, amt_for_t in zip(n_list, amt_for_t_for_n):\n",
    "    print(len(amt_for_t) - 1, df_for_n.get_group(n).t.values)"
   ]
  },
  {
   "cell_type": "code",
   "execution_count": 88,
   "metadata": {
    "scrolled": false
   },
   "outputs": [
    {
     "data": {
      "image/png": "[encoded data removed]",
      "text/plain": [
       "<Figure size 360x360 with 1 Axes>"
      ]
     },
     "metadata": {
      "needs_background": "light"
     },
     "output_type": "display_data"
    },
    {
     "data": {
      "image/png": "[encoded data removed]",
      "text/plain": [
       "<Figure size 360x360 with 1 Axes>"
      ]
     },
     "metadata": {
      "needs_background": "light"
     },
     "output_type": "display_data"
    },
    {
     "data": {
      "image/png": "[encoded data removed]",
      "text/plain": [
       "<Figure size 360x360 with 1 Axes>"
      ]
     },
     "metadata": {
      "needs_background": "light"
     },
     "output_type": "display_data"
    },
    {
     "data": {
      "image/png": "[encoded data removed]",
      "text/plain": [
       "<Figure size 360x360 with 1 Axes>"
      ]
     },
     "metadata": {
      "needs_background": "light"
     },
     "output_type": "display_data"
    },
    {
     "data": {
      "image/png": "[encoded data removed]",
      "text/plain": [
       "<Figure size 360x360 with 1 Axes>"
      ]
     },
     "metadata": {
      "needs_background": "light"
     },
     "output_type": "display_data"
    },
    {
     "data": {
      "image/png": "[encoded data removed]",
      "text/plain": [
       "<Figure size 360x360 with 1 Axes>"
      ]
     },
     "metadata": {
      "needs_background": "light"
     },
     "output_type": "display_data"
    },
    {
     "data": {
      "image/png": "[encoded data removed]",
      "text/plain": [
       "<Figure size 360x360 with 1 Axes>"
      ]
     },
     "metadata": {
      "needs_background": "light"
     },
     "output_type": "display_data"
    },
    {
     "data": {
      "image/png": "[encoded data removed]",
      "text/plain": [
       "<Figure size 360x360 with 1 Axes>"
      ]
     },
     "metadata": {
      "needs_background": "light"
     },
     "output_type": "display_data"
    },
    {
     "data": {
      "image/png": "[encoded data removed]",
      "text/plain": [
       "<Figure size 360x360 with 1 Axes>"
      ]
     },
     "metadata": {
      "needs_background": "light"
     },
     "output_type": "display_data"
    },
    {
     "data": {
      "image/png": "[encoded data removed]",
      "text/plain": [
       "<Figure size 360x360 with 1 Axes>"
      ]
     },
     "metadata": {
      "needs_background": "light"
     },
     "output_type": "display_data"
    },
    {
     "data": {
      "image/png": "[encoded data removed]",
      "text/plain": [
       "<Figure size 360x360 with 1 Axes>"
      ]
     },
     "metadata": {
      "needs_background": "light"
     },
     "output_type": "display_data"
    },
    {
     "data": {
      "image/png": "[encoded data removed]",
      "text/plain": [
       "<Figure size 360x360 with 1 Axes>"
      ]
     },
     "metadata": {
      "needs_background": "light"
     },
     "output_type": "display_data"
    },
    {
     "data": {
      "image/png": "[encoded data removed]",
      "text/plain": [
       "<Figure size 360x360 with 1 Axes>"
      ]
     },
     "metadata": {
      "needs_background": "light"
     },
     "output_type": "display_data"
    },
    {
     "data": {
      "image/png": "[encoded data removed]",
      "text/plain": [
       "<Figure size 360x360 with 1 Axes>"
      ]
     },
     "metadata": {
      "needs_background": "light"
     },
     "output_type": "display_data"
    },
    {
     "data": {
      "image/png": "[encoded data removed]",
      "text/plain": [
       "<Figure size 360x360 with 1 Axes>"
      ]
     },
     "metadata": {
      "needs_background": "light"
     },
     "output_type": "display_data"
    },
    {
     "data": {
      "image/png": "[encoded data removed]",
      "text/plain": [
       "<Figure size 360x360 with 1 Axes>"
      ]
     },
     "metadata": {
      "needs_background": "light"
     },
     "output_type": "display_data"
    },
    {
     "data": {
      "image/png": "[encoded data removed]",
      "text/plain": [
       "<Figure size 360x360 with 1 Axes>"
      ]
     },
     "metadata": {
      "needs_background": "light"
     },
     "output_type": "display_data"
    },
    {
     "data": {
      "image/png": "[encoded data removed]",
      "text/plain": [
       "<Figure size 360x360 with 1 Axes>"
      ]
     },
     "metadata": {
      "needs_background": "light"
     },
     "output_type": "display_data"
    },
    {
     "data": {
      "image/png": "[encoded data removed]",
      "text/plain": [
       "<Figure size 360x360 with 1 Axes>"
      ]
     },
     "metadata": {
      "needs_background": "light"
     },
     "output_type": "display_data"
    },
    {
     "data": {
      "image/png": "[encoded data removed]",
      "text/plain": [
       "<Figure size 360x360 with 1 Axes>"
      ]
     },
     "metadata": {
      "needs_background": "light"
     },
     "output_type": "display_data"
    }
   ],
   "source": [
    "decoders_err_hist(n_list, 1000, amt_for_t, df_for_n, trim=True, text='1st test')"
   ]
  },
  {
   "cell_type": "code",
   "execution_count": null,
   "metadata": {
    "scrolled": false
   },
   "outputs": [],
   "source": [
    "bch_chars = decoders_test(n_list, n_msg, amt_for_t, df_for_n, trim=True)"
   ]
  },
  {
   "cell_type": "code",
   "execution_count": 12,
   "metadata": {},
   "outputs": [
    {
     "name": "stdout",
     "output_type": "stream",
     "text": [
      "..............................................................*\n",
      "..............................................................*\n",
      "..............................................................*\n",
      "..............................................................*\n"
     ]
    },
    {
     "data": {
      "text/plain": [
       "<matplotlib.legend.Legend at 0x7f33d32b9cc0>"
      ]
     },
     "execution_count": 12,
     "metadata": {},
     "output_type": "execute_result"
    },
    {
     "data": {
      "image/png": "[encoded data removed]",
      "text/plain": [
       "<Figure size 1080x360 with 1 Axes>"
      ]
     },
     "metadata": {
      "needs_background": "light"
     },
     "output_type": "display_data"
    }
   ],
   "source": [
    "# второй тест - с ошибками, превышающие способность кода\n",
    "# отличие: выбираем перцентиль 90, а также не исправляем лишние ошибки\n",
    "percent = 90\n",
    "n_list = [7, 15, 31, 63]\n",
    "plt.figure(figsize=(15,5))\n",
    "amt_for_t_for_n = []\n",
    "for n in n_list:\n",
    "    amts = np.concatenate((\n",
    "        np.arange(1, 1.10, 0.0125),\n",
    "        np.arange(1.10, 3.75, 0.05)\n",
    "    ))\n",
    "    amt_for_t, t_for_amt = get_amt_for_t(\n",
    "        n=n,\n",
    "        amt_range=amts,\n",
    "        percent=percent,\n",
    "        n_tests=10000,\n",
    "    )\n",
    "    plt.step(amts, t_for_amt / n, label=f'n={n}')\n",
    "    amt_for_t_for_n.append(amt_for_t)\n",
    "plt.xlabel('amt')\n",
    "plt.ylabel('t / n')\n",
    "plt.legend()"
   ]
  },
  {
   "cell_type": "code",
   "execution_count": 13,
   "metadata": {
    "scrolled": true
   },
   "outputs": [
    {
     "name": "stdout",
     "output_type": "stream",
     "text": [
      "[1.     1.0375 1.2    1.55   2.25  ]\n",
      "[1.     1.025  1.0875 1.2    1.35   1.55   1.85   2.3    3.2   ]\n",
      "[1.     1.0125 1.0375 1.0875 1.15   1.2    1.3    1.4    1.5    1.6\n",
      " 1.75   1.95   2.15   2.5    2.9    3.5   ]\n",
      "[1.     1.0125 1.025  1.0375 1.0625 1.0875 1.15   1.15   1.2    1.25\n",
      " 1.3    1.3    1.35   1.4    1.5    1.55   1.6    1.7    1.75   1.85\n",
      " 1.95   2.05   2.2    2.35   2.5    2.65   2.95   3.3    3.6   ]\n",
      "\n",
      "4 [1 3]\n",
      "8 [1 2 3 7]\n",
      "15 [ 1  2  3  5  7 15]\n",
      "28 [ 1  2  3  4  5  6  7 10 11 13 15 31]\n"
     ]
    }
   ],
   "source": [
    "print(*amt_for_t_for_n, sep='\\n')\n",
    "print()\n",
    "for n, amt_for_t in zip(n_list, amt_for_t_for_n):\n",
    "    print(len(amt_for_t) - 1, df_for_n.get_group(n).t.values)"
   ]
  },
  {
   "cell_type": "code",
   "execution_count": 14,
   "metadata": {
    "scrolled": false
   },
   "outputs": [
    {
     "data": {
      "image/png": "[encoded data removed]",
      "text/plain": [
       "<Figure size 360x360 with 1 Axes>"
      ]
     },
     "metadata": {
      "needs_background": "light"
     },
     "output_type": "display_data"
    },
    {
     "data": {
      "image/png": "[encoded data removed]",
      "text/plain": [
       "<Figure size 360x360 with 1 Axes>"
      ]
     },
     "metadata": {
      "needs_background": "light"
     },
     "output_type": "display_data"
    },
    {
     "data": {
      "image/png": "[encoded data removed]",
      "text/plain": [
       "<Figure size 360x360 with 1 Axes>"
      ]
     },
     "metadata": {
      "needs_background": "light"
     },
     "output_type": "display_data"
    },
    {
     "data": {
      "image/png": "[encoded data removed]",
      "text/plain": [
       "<Figure size 360x360 with 1 Axes>"
      ]
     },
     "metadata": {
      "needs_background": "light"
     },
     "output_type": "display_data"
    },
    {
     "data": {
      "image/png": "[encoded data removed]",
      "text/plain": [
       "<Figure size 360x360 with 1 Axes>"
      ]
     },
     "metadata": {
      "needs_background": "light"
     },
     "output_type": "display_data"
    },
    {
     "data": {
      "image/png": "[encoded data removed]",
      "text/plain": [
       "<Figure size 360x360 with 1 Axes>"
      ]
     },
     "metadata": {
      "needs_background": "light"
     },
     "output_type": "display_data"
    },
    {
     "data": {
      "image/png": "[encoded data removed]",
      "text/plain": [
       "<Figure size 360x360 with 1 Axes>"
      ]
     },
     "metadata": {
      "needs_background": "light"
     },
     "output_type": "display_data"
    },
    {
     "data": {
      "image/png": "[encoded data removed]",
      "text/plain": [
       "<Figure size 360x360 with 1 Axes>"
      ]
     },
     "metadata": {
      "needs_background": "light"
     },
     "output_type": "display_data"
    },
    {
     "data": {
      "image/png": "[encoded data removed]",
      "text/plain": [
       "<Figure size 360x360 with 1 Axes>"
      ]
     },
     "metadata": {
      "needs_background": "light"
     },
     "output_type": "display_data"
    },
    {
     "data": {
      "image/png": "[encoded data removed]",
      "text/plain": [
       "<Figure size 360x360 with 1 Axes>"
      ]
     },
     "metadata": {
      "needs_background": "light"
     },
     "output_type": "display_data"
    },
    {
     "data": {
      "image/png": "[encoded data removed]",
      "text/plain": [
       "<Figure size 360x360 with 1 Axes>"
      ]
     },
     "metadata": {
      "needs_background": "light"
     },
     "output_type": "display_data"
    },
    {
     "data": {
      "image/png": "[encoded data removed]",
      "text/plain": [
       "<Figure size 360x360 with 1 Axes>"
      ]
     },
     "metadata": {
      "needs_background": "light"
     },
     "output_type": "display_data"
    },
    {
     "data": {
      "image/png": "[encoded data removed]",
      "text/plain": [
       "<Figure size 360x360 with 1 Axes>"
      ]
     },
     "metadata": {
      "needs_background": "light"
     },
     "output_type": "display_data"
    },
    {
     "data": {
      "image/png": "[encoded data removed]",
      "text/plain": [
       "<Figure size 360x360 with 1 Axes>"
      ]
     },
     "metadata": {
      "needs_background": "light"
     },
     "output_type": "display_data"
    },
    {
     "data": {
      "image/png": "[encoded data removed]",
      "text/plain": [
       "<Figure size 360x360 with 1 Axes>"
      ]
     },
     "metadata": {
      "needs_background": "light"
     },
     "output_type": "display_data"
    },
    {
     "data": {
      "image/png": "[encoded data removed]",
      "text/plain": [
       "<Figure size 360x360 with 1 Axes>"
      ]
     },
     "metadata": {
      "needs_background": "light"
     },
     "output_type": "display_data"
    },
    {
     "data": {
      "image/png": "[encoded data removed]",
      "text/plain": [
       "<Figure size 360x360 with 1 Axes>"
      ]
     },
     "metadata": {
      "needs_background": "light"
     },
     "output_type": "display_data"
    },
    {
     "data": {
      "image/png": "[encoded data removed]",
      "text/plain": [
       "<Figure size 360x360 with 1 Axes>"
      ]
     },
     "metadata": {
      "needs_background": "light"
     },
     "output_type": "display_data"
    },
    {
     "data": {
      "image/png": "[encoded data removed]",
      "text/plain": [
       "<Figure size 360x360 with 1 Axes>"
      ]
     },
     "metadata": {
      "needs_background": "light"
     },
     "output_type": "display_data"
    },
    {
     "data": {
      "image/png": "[encoded data removed]",
      "text/plain": [
       "<Figure size 360x360 with 1 Axes>"
      ]
     },
     "metadata": {
      "needs_background": "light"
     },
     "output_type": "display_data"
    }
   ],
   "source": [
    "decoders_err_hist(n_list, 1000, amt_for_t, df_for_n, trim=False, text='2nd test')"
   ]
  },
  {
   "cell_type": "code",
   "execution_count": null,
   "metadata": {
    "scrolled": false
   },
   "outputs": [],
   "source": [
    "bch_chars_2 = decoders_test(n_list, n_msg, amt_for_t, df_for_n, trim=False)"
   ]
  },
  {
   "cell_type": "code",
   "execution_count": 95,
   "metadata": {},
   "outputs": [
    {
     "name": "stdout",
     "output_type": "stream",
     "text": [
      "..............................................................*\n",
      "..............................................................*\n",
      "..............................................................*\n",
      "..............................................................*\n"
     ]
    },
    {
     "data": {
      "text/plain": [
       "<matplotlib.legend.Legend at 0x7f03ac39eef0>"
      ]
     },
     "execution_count": 95,
     "metadata": {},
     "output_type": "execute_result"
    },
    {
     "data": {
      "image/png": "[encoded data removed]",
      "text/plain": [
       "<Figure size 1080x360 with 1 Axes>"
      ]
     },
     "metadata": {
      "needs_background": "light"
     },
     "output_type": "display_data"
    }
   ],
   "source": [
    "# третий тест - может быть ещё больше ошибок в сообщении, чем в прошлом тесте\n",
    "#   выбираем перцентиль 50, не исправляем лишние ошибки\n",
    "percent = 50\n",
    "n_list = [7, 15, 31, 63]\n",
    "plt.figure(figsize=(15,5))\n",
    "amt_for_t_for_n = []\n",
    "for n in n_list:\n",
    "    amts = np.concatenate((\n",
    "        np.arange(1, 1.10, 0.0125),\n",
    "        np.arange(1.10, 3.75, 0.05)\n",
    "    ))\n",
    "    amt_for_t, t_for_amt = get_amt_for_t(\n",
    "        n=n,\n",
    "        amt_range=amts,\n",
    "        percent=percent,\n",
    "        n_tests=10000,\n",
    "    )\n",
    "    plt.step(amts, t_for_amt / n, label=f'n={n}')\n",
    "    amt_for_t_for_n.append(amt_for_t)\n",
    "prob = lambda amt: (amt - 1) / 2 / amt\n",
    "x = np.arange(1, 3.75, 0.001)\n",
    "plt.plot(x, prob(x), color='black', label='formula (amt-1)/(2*amt)')\n",
    "plt.xlabel('amt')\n",
    "plt.ylabel('t / n')\n",
    "plt.legend()"
   ]
  },
  {
   "cell_type": "code",
   "execution_count": 96,
   "metadata": {},
   "outputs": [
    {
     "name": "stdout",
     "output_type": "stream",
     "text": [
      "[1.   1.25 1.85 3.65]\n",
      "[1.   1.1  1.3  1.55 1.95 2.55]\n",
      "[1.   1.05 1.15 1.25 1.35 1.45 1.6  1.75 2.   2.25 2.65 3.2 ]\n",
      "[1.     1.025  1.0625 1.1    1.15   1.2    1.25   1.3    1.35   1.4\n",
      " 1.45   1.55   1.6    1.7    1.8    1.9    2.     2.15   2.3    2.45\n",
      " 2.65   2.9    3.15   3.55  ]\n",
      "\n",
      "[1.         1.4        2.33333333 7.        ]\n",
      "[1.         1.15384615 1.36363636 1.66666667 2.14285714 3.        ]\n",
      "[1.         1.06896552 1.14814815 1.24       1.34782609 1.47619048\n",
      " 1.63157895 1.82352941 2.06666667 2.38461538 2.81818182 3.44444444]\n",
      "[1.         1.03278689 1.06779661 1.10526316 1.14545455 1.18867925\n",
      " 1.23529412 1.28571429 1.34042553 1.4        1.46511628 1.53658537\n",
      " 1.61538462 1.7027027  1.8        1.90909091 2.03225806 2.17241379\n",
      " 2.33333333 2.52       2.73913043 3.         3.31578947 3.70588235]\n",
      "\n",
      "3 [1 3]\n",
      "5 [1 2 3 7]\n",
      "11 [ 1  2  3  5  7 15]\n",
      "23 [ 1  2  3  4  5  6  7 10 11 13 15 31]\n"
     ]
    }
   ],
   "source": [
    "print(*amt_for_t_for_n, sep='\\n')\n",
    "print()\n",
    "get_amt_50 = lambda t, n: 1 / (1 - 2*t/n)\n",
    "print(get_amt_50(np.arange(0,len(amt_for_t_for_n[0])), 7))\n",
    "print(get_amt_50(np.arange(0,len(amt_for_t_for_n[1])), 15))\n",
    "print(get_amt_50(np.arange(0,len(amt_for_t_for_n[2])), 31))\n",
    "print(get_amt_50(np.arange(0,len(amt_for_t_for_n[3])), 63))\n",
    "print()\n",
    "for n, amt_for_t in zip(n_list, amt_for_t_for_n):\n",
    "    print(len(amt_for_t) - 1, df_for_n.get_group(n).t.values)"
   ]
  },
  {
   "cell_type": "code",
   "execution_count": 97,
   "metadata": {
    "scrolled": false
   },
   "outputs": [
    {
     "data": {
      "image/png": "[encoded data removed]",
      "text/plain": [
       "<Figure size 360x360 with 1 Axes>"
      ]
     },
     "metadata": {
      "needs_background": "light"
     },
     "output_type": "display_data"
    },
    {
     "data": {
      "image/png": "[encoded data removed]",
      "text/plain": [
       "<Figure size 360x360 with 1 Axes>"
      ]
     },
     "metadata": {
      "needs_background": "light"
     },
     "output_type": "display_data"
    },
    {
     "data": {
      "image/png": "[encoded data removed]",
      "text/plain": [
       "<Figure size 360x360 with 1 Axes>"
      ]
     },
     "metadata": {
      "needs_background": "light"
     },
     "output_type": "display_data"
    },
    {
     "data": {
      "image/png": "[encoded data removed]",
      "text/plain": [
       "<Figure size 360x360 with 1 Axes>"
      ]
     },
     "metadata": {
      "needs_background": "light"
     },
     "output_type": "display_data"
    },
    {
     "data": {
      "image/png": "[encoded data removed]",
      "text/plain": [
       "<Figure size 360x360 with 1 Axes>"
      ]
     },
     "metadata": {
      "needs_background": "light"
     },
     "output_type": "display_data"
    },
    {
     "data": {
      "image/png": "[encoded data removed]",
      "text/plain": [
       "<Figure size 360x360 with 1 Axes>"
      ]
     },
     "metadata": {
      "needs_background": "light"
     },
     "output_type": "display_data"
    },
    {
     "data": {
      "image/png": "[encoded data removed]",
      "text/plain": [
       "<Figure size 360x360 with 1 Axes>"
      ]
     },
     "metadata": {
      "needs_background": "light"
     },
     "output_type": "display_data"
    },
    {
     "data": {
      "image/png": "[encoded data removed]",
      "text/plain": [
       "<Figure size 360x360 with 1 Axes>"
      ]
     },
     "metadata": {
      "needs_background": "light"
     },
     "output_type": "display_data"
    },
    {
     "data": {
      "image/png": "[encoded data removed]",
      "text/plain": [
       "<Figure size 360x360 with 1 Axes>"
      ]
     },
     "metadata": {
      "needs_background": "light"
     },
     "output_type": "display_data"
    },
    {
     "data": {
      "image/png": "[encoded data removed]",
      "text/plain": [
       "<Figure size 360x360 with 1 Axes>"
      ]
     },
     "metadata": {
      "needs_background": "light"
     },
     "output_type": "display_data"
    },
    {
     "data": {
      "image/png": "[encoded data removed]",
      "text/plain": [
       "<Figure size 360x360 with 1 Axes>"
      ]
     },
     "metadata": {
      "needs_background": "light"
     },
     "output_type": "display_data"
    },
    {
     "data": {
      "image/png": "[encoded data removed]",
      "text/plain": [
       "<Figure size 360x360 with 1 Axes>"
      ]
     },
     "metadata": {
      "needs_background": "light"
     },
     "output_type": "display_data"
    },
    {
     "data": {
      "image/png": "[encoded data removed]",
      "text/plain": [
       "<Figure size 360x360 with 1 Axes>"
      ]
     },
     "metadata": {
      "needs_background": "light"
     },
     "output_type": "display_data"
    },
    {
     "data": {
      "image/png": "[encoded data removed]",
      "text/plain": [
       "<Figure size 360x360 with 1 Axes>"
      ]
     },
     "metadata": {
      "needs_background": "light"
     },
     "output_type": "display_data"
    },
    {
     "data": {
      "image/png": "[encoded data removed]",
      "text/plain": [
       "<Figure size 360x360 with 1 Axes>"
      ]
     },
     "metadata": {
      "needs_background": "light"
     },
     "output_type": "display_data"
    },
    {
     "data": {
      "image/png": "[encoded data removed]",
      "text/plain": [
       "<Figure size 360x360 with 1 Axes>"
      ]
     },
     "metadata": {
      "needs_background": "light"
     },
     "output_type": "display_data"
    },
    {
     "data": {
      "image/png": "[encoded data removed]",
      "text/plain": [
       "<Figure size 360x360 with 1 Axes>"
      ]
     },
     "metadata": {
      "needs_background": "light"
     },
     "output_type": "display_data"
    },
    {
     "data": {
      "image/png": "[encoded data removed]",
      "text/plain": [
       "<Figure size 360x360 with 1 Axes>"
      ]
     },
     "metadata": {
      "needs_background": "light"
     },
     "output_type": "display_data"
    },
    {
     "data": {
      "image/png": "[encoded data removed]",
      "text/plain": [
       "<Figure size 360x360 with 1 Axes>"
      ]
     },
     "metadata": {
      "needs_background": "light"
     },
     "output_type": "display_data"
    },
    {
     "data": {
      "image/png": "[encoded data removed]",
      "text/plain": [
       "<Figure size 360x360 with 1 Axes>"
      ]
     },
     "metadata": {
      "needs_background": "light"
     },
     "output_type": "display_data"
    }
   ],
   "source": [
    "decoders_err_hist(n_list, 1000, amt_for_t, df_for_n, trim=False, text='3rd test')"
   ]
  },
  {
   "cell_type": "code",
   "execution_count": null,
   "metadata": {
    "scrolled": false
   },
   "outputs": [],
   "source": [
    "bch_chars_3 = decoders_test(n_list, n_msg, amt_for_t, df_for_n, trim=False)"
   ]
  },
  {
   "cell_type": "code",
   "execution_count": 99,
   "metadata": {},
   "outputs": [],
   "source": [
    "table = []\n",
    "for b1, b2, b3 in zip(bch_chars, bch_chars_2, bch_chars_3):\n",
    "    for i, bch_inst in enumerate([b1, b2, b3]):\n",
    "        table.append([\n",
    "            *bch_inst[0],\n",
    "            i + 1,\n",
    "            bch_inst[1],\n",
    "            *bch_inst[2],\n",
    "            *bch_inst[3],\n",
    "            *bch_inst[4:],\n",
    "        ])"
   ]
  },
  {
   "cell_type": "code",
   "execution_count": 128,
   "metadata": {},
   "outputs": [],
   "source": [
    "df_tests = pd.DataFrame(data=np.array(table), columns=[\"n\",\"t\",\"test\",\"n_overdrives\",\"pgz_n_succ\",\"pgz_n_err\",\"pgz_n_refuse\",\"euclid_n_succ\",\"euclid_n_err\",\"euclid_n_refuse\",\"pgz_time\",\"euclid_time\"])"
   ]
  },
  {
   "cell_type": "code",
   "execution_count": 129,
   "metadata": {},
   "outputs": [],
   "source": [
    "for col in [\"n\", \"t\", \"test\", \"n_overdrives\",\n",
    "            \"pgz_n_succ\", \"pgz_n_err\", \"pgz_n_refuse\",\n",
    "            \"euclid_n_succ\", \"euclid_n_err\", \"euclid_n_refuse\",\n",
    "           ]:\n",
    "    df_tests[col] = df_tests[col].astype(int)"
   ]
  },
  {
   "cell_type": "code",
   "execution_count": 130,
   "metadata": {},
   "outputs": [
    {
     "data": {
      "text/html": [
       "<div>\n",
       "<style scoped>\n",
       "    .dataframe tbody tr th:only-of-type {\n",
       "        vertical-align: middle;\n",
       "    }\n",
       "\n",
       "    .dataframe tbody tr th {\n",
       "        vertical-align: top;\n",
       "    }\n",
       "\n",
       "    .dataframe thead th {\n",
       "        text-align: right;\n",
       "    }\n",
       "</style>\n",
       "<table border=\"1\" class=\"dataframe\">\n",
       "  <thead>\n",
       "    <tr style=\"text-align: right;\">\n",
       "      <th></th>\n",
       "      <th>n</th>\n",
       "      <th>t</th>\n",
       "      <th>test</th>\n",
       "      <th>n_overdrives</th>\n",
       "      <th>pgz_n_succ</th>\n",
       "      <th>pgz_n_err</th>\n",
       "      <th>pgz_n_refuse</th>\n",
       "      <th>euclid_n_succ</th>\n",
       "      <th>euclid_n_err</th>\n",
       "      <th>euclid_n_refuse</th>\n",
       "      <th>pgz_time</th>\n",
       "      <th>euclid_time</th>\n",
       "    </tr>\n",
       "  </thead>\n",
       "  <tbody>\n",
       "    <tr>\n",
       "      <th>0</th>\n",
       "      <td>7</td>\n",
       "      <td>1</td>\n",
       "      <td>1</td>\n",
       "      <td>0</td>\n",
       "      <td>10000</td>\n",
       "      <td>0</td>\n",
       "      <td>0</td>\n",
       "      <td>10000</td>\n",
       "      <td>0</td>\n",
       "      <td>0</td>\n",
       "      <td>0.053358</td>\n",
       "      <td>0.203457</td>\n",
       "    </tr>\n",
       "    <tr>\n",
       "      <th>1</th>\n",
       "      <td>7</td>\n",
       "      <td>1</td>\n",
       "      <td>2</td>\n",
       "      <td>73</td>\n",
       "      <td>9927</td>\n",
       "      <td>73</td>\n",
       "      <td>0</td>\n",
       "      <td>9927</td>\n",
       "      <td>73</td>\n",
       "      <td>0</td>\n",
       "      <td>0.162503</td>\n",
       "      <td>0.619373</td>\n",
       "    </tr>\n",
       "    <tr>\n",
       "      <th>2</th>\n",
       "      <td>7</td>\n",
       "      <td>1</td>\n",
       "      <td>3</td>\n",
       "      <td>1494</td>\n",
       "      <td>8506</td>\n",
       "      <td>1494</td>\n",
       "      <td>0</td>\n",
       "      <td>8506</td>\n",
       "      <td>1494</td>\n",
       "      <td>0</td>\n",
       "      <td>0.601855</td>\n",
       "      <td>2.322008</td>\n",
       "    </tr>\n",
       "    <tr>\n",
       "      <th>3</th>\n",
       "      <td>15</td>\n",
       "      <td>1</td>\n",
       "      <td>1</td>\n",
       "      <td>0</td>\n",
       "      <td>10000</td>\n",
       "      <td>0</td>\n",
       "      <td>0</td>\n",
       "      <td>10000</td>\n",
       "      <td>0</td>\n",
       "      <td>0</td>\n",
       "      <td>0.110557</td>\n",
       "      <td>0.412387</td>\n",
       "    </tr>\n",
       "    <tr>\n",
       "      <th>4</th>\n",
       "      <td>15</td>\n",
       "      <td>1</td>\n",
       "      <td>2</td>\n",
       "      <td>117</td>\n",
       "      <td>9883</td>\n",
       "      <td>117</td>\n",
       "      <td>0</td>\n",
       "      <td>9883</td>\n",
       "      <td>117</td>\n",
       "      <td>0</td>\n",
       "      <td>0.210682</td>\n",
       "      <td>0.766882</td>\n",
       "    </tr>\n",
       "    <tr>\n",
       "      <th>5</th>\n",
       "      <td>15</td>\n",
       "      <td>1</td>\n",
       "      <td>3</td>\n",
       "      <td>1420</td>\n",
       "      <td>8580</td>\n",
       "      <td>1420</td>\n",
       "      <td>0</td>\n",
       "      <td>8580</td>\n",
       "      <td>1420</td>\n",
       "      <td>0</td>\n",
       "      <td>0.591846</td>\n",
       "      <td>2.271186</td>\n",
       "    </tr>\n",
       "    <tr>\n",
       "      <th>6</th>\n",
       "      <td>15</td>\n",
       "      <td>2</td>\n",
       "      <td>1</td>\n",
       "      <td>0</td>\n",
       "      <td>10000</td>\n",
       "      <td>0</td>\n",
       "      <td>0</td>\n",
       "      <td>10000</td>\n",
       "      <td>0</td>\n",
       "      <td>0</td>\n",
       "      <td>0.491396</td>\n",
       "      <td>0.875439</td>\n",
       "    </tr>\n",
       "    <tr>\n",
       "      <th>7</th>\n",
       "      <td>15</td>\n",
       "      <td>2</td>\n",
       "      <td>2</td>\n",
       "      <td>212</td>\n",
       "      <td>9788</td>\n",
       "      <td>85</td>\n",
       "      <td>127</td>\n",
       "      <td>9788</td>\n",
       "      <td>85</td>\n",
       "      <td>127</td>\n",
       "      <td>1.306225</td>\n",
       "      <td>2.579588</td>\n",
       "    </tr>\n",
       "    <tr>\n",
       "      <th>8</th>\n",
       "      <td>15</td>\n",
       "      <td>2</td>\n",
       "      <td>3</td>\n",
       "      <td>2457</td>\n",
       "      <td>7543</td>\n",
       "      <td>934</td>\n",
       "      <td>1523</td>\n",
       "      <td>7543</td>\n",
       "      <td>934</td>\n",
       "      <td>1523</td>\n",
       "      <td>2.399009</td>\n",
       "      <td>5.650297</td>\n",
       "    </tr>\n",
       "    <tr>\n",
       "      <th>9</th>\n",
       "      <td>15</td>\n",
       "      <td>3</td>\n",
       "      <td>1</td>\n",
       "      <td>0</td>\n",
       "      <td>10000</td>\n",
       "      <td>0</td>\n",
       "      <td>0</td>\n",
       "      <td>10000</td>\n",
       "      <td>0</td>\n",
       "      <td>0</td>\n",
       "      <td>2.051725</td>\n",
       "      <td>2.412509</td>\n",
       "    </tr>\n",
       "    <tr>\n",
       "      <th>10</th>\n",
       "      <td>15</td>\n",
       "      <td>3</td>\n",
       "      <td>2</td>\n",
       "      <td>300</td>\n",
       "      <td>9700</td>\n",
       "      <td>124</td>\n",
       "      <td>176</td>\n",
       "      <td>9700</td>\n",
       "      <td>124</td>\n",
       "      <td>176</td>\n",
       "      <td>3.639027</td>\n",
       "      <td>5.026078</td>\n",
       "    </tr>\n",
       "    <tr>\n",
       "      <th>11</th>\n",
       "      <td>15</td>\n",
       "      <td>3</td>\n",
       "      <td>3</td>\n",
       "      <td>2589</td>\n",
       "      <td>7411</td>\n",
       "      <td>1076</td>\n",
       "      <td>1513</td>\n",
       "      <td>7411</td>\n",
       "      <td>1076</td>\n",
       "      <td>1513</td>\n",
       "      <td>4.854858</td>\n",
       "      <td>8.815676</td>\n",
       "    </tr>\n",
       "    <tr>\n",
       "      <th>12</th>\n",
       "      <td>31</td>\n",
       "      <td>1</td>\n",
       "      <td>1</td>\n",
       "      <td>0</td>\n",
       "      <td>10000</td>\n",
       "      <td>0</td>\n",
       "      <td>0</td>\n",
       "      <td>10000</td>\n",
       "      <td>0</td>\n",
       "      <td>0</td>\n",
       "      <td>0.231470</td>\n",
       "      <td>0.865476</td>\n",
       "    </tr>\n",
       "    <tr>\n",
       "      <th>13</th>\n",
       "      <td>31</td>\n",
       "      <td>1</td>\n",
       "      <td>2</td>\n",
       "      <td>148</td>\n",
       "      <td>9852</td>\n",
       "      <td>148</td>\n",
       "      <td>0</td>\n",
       "      <td>9852</td>\n",
       "      <td>148</td>\n",
       "      <td>0</td>\n",
       "      <td>0.218774</td>\n",
       "      <td>0.814881</td>\n",
       "    </tr>\n",
       "    <tr>\n",
       "      <th>14</th>\n",
       "      <td>31</td>\n",
       "      <td>1</td>\n",
       "      <td>3</td>\n",
       "      <td>1701</td>\n",
       "      <td>8299</td>\n",
       "      <td>1701</td>\n",
       "      <td>0</td>\n",
       "      <td>8299</td>\n",
       "      <td>1701</td>\n",
       "      <td>0</td>\n",
       "      <td>0.665201</td>\n",
       "      <td>2.502017</td>\n",
       "    </tr>\n",
       "    <tr>\n",
       "      <th>15</th>\n",
       "      <td>31</td>\n",
       "      <td>2</td>\n",
       "      <td>1</td>\n",
       "      <td>0</td>\n",
       "      <td>10000</td>\n",
       "      <td>0</td>\n",
       "      <td>0</td>\n",
       "      <td>10000</td>\n",
       "      <td>0</td>\n",
       "      <td>0</td>\n",
       "      <td>0.535488</td>\n",
       "      <td>0.956363</td>\n",
       "    </tr>\n",
       "    <tr>\n",
       "      <th>16</th>\n",
       "      <td>31</td>\n",
       "      <td>2</td>\n",
       "      <td>2</td>\n",
       "      <td>174</td>\n",
       "      <td>9826</td>\n",
       "      <td>73</td>\n",
       "      <td>101</td>\n",
       "      <td>9826</td>\n",
       "      <td>73</td>\n",
       "      <td>101</td>\n",
       "      <td>1.261528</td>\n",
       "      <td>2.501006</td>\n",
       "    </tr>\n",
       "    <tr>\n",
       "      <th>17</th>\n",
       "      <td>31</td>\n",
       "      <td>2</td>\n",
       "      <td>3</td>\n",
       "      <td>3301</td>\n",
       "      <td>6699</td>\n",
       "      <td>1378</td>\n",
       "      <td>1923</td>\n",
       "      <td>6699</td>\n",
       "      <td>1378</td>\n",
       "      <td>1923</td>\n",
       "      <td>2.641430</td>\n",
       "      <td>6.458144</td>\n",
       "    </tr>\n",
       "    <tr>\n",
       "      <th>18</th>\n",
       "      <td>31</td>\n",
       "      <td>3</td>\n",
       "      <td>1</td>\n",
       "      <td>0</td>\n",
       "      <td>10000</td>\n",
       "      <td>0</td>\n",
       "      <td>0</td>\n",
       "      <td>10000</td>\n",
       "      <td>0</td>\n",
       "      <td>0</td>\n",
       "      <td>2.176690</td>\n",
       "      <td>2.694820</td>\n",
       "    </tr>\n",
       "    <tr>\n",
       "      <th>19</th>\n",
       "      <td>31</td>\n",
       "      <td>3</td>\n",
       "      <td>2</td>\n",
       "      <td>360</td>\n",
       "      <td>9640</td>\n",
       "      <td>63</td>\n",
       "      <td>297</td>\n",
       "      <td>9640</td>\n",
       "      <td>63</td>\n",
       "      <td>297</td>\n",
       "      <td>3.669877</td>\n",
       "      <td>5.371347</td>\n",
       "    </tr>\n",
       "    <tr>\n",
       "      <th>20</th>\n",
       "      <td>31</td>\n",
       "      <td>3</td>\n",
       "      <td>3</td>\n",
       "      <td>3777</td>\n",
       "      <td>6223</td>\n",
       "      <td>603</td>\n",
       "      <td>3174</td>\n",
       "      <td>6223</td>\n",
       "      <td>603</td>\n",
       "      <td>3174</td>\n",
       "      <td>5.090748</td>\n",
       "      <td>10.333877</td>\n",
       "    </tr>\n",
       "    <tr>\n",
       "      <th>21</th>\n",
       "      <td>31</td>\n",
       "      <td>5</td>\n",
       "      <td>1</td>\n",
       "      <td>0</td>\n",
       "      <td>10000</td>\n",
       "      <td>0</td>\n",
       "      <td>0</td>\n",
       "      <td>10000</td>\n",
       "      <td>0</td>\n",
       "      <td>0</td>\n",
       "      <td>8.752275</td>\n",
       "      <td>6.543626</td>\n",
       "    </tr>\n",
       "    <tr>\n",
       "      <th>22</th>\n",
       "      <td>31</td>\n",
       "      <td>5</td>\n",
       "      <td>2</td>\n",
       "      <td>379</td>\n",
       "      <td>9621</td>\n",
       "      <td>58</td>\n",
       "      <td>321</td>\n",
       "      <td>9621</td>\n",
       "      <td>58</td>\n",
       "      <td>321</td>\n",
       "      <td>11.367690</td>\n",
       "      <td>11.053808</td>\n",
       "    </tr>\n",
       "    <tr>\n",
       "      <th>23</th>\n",
       "      <td>31</td>\n",
       "      <td>5</td>\n",
       "      <td>3</td>\n",
       "      <td>3507</td>\n",
       "      <td>6493</td>\n",
       "      <td>461</td>\n",
       "      <td>3046</td>\n",
       "      <td>6493</td>\n",
       "      <td>461</td>\n",
       "      <td>3046</td>\n",
       "      <td>11.366011</td>\n",
       "      <td>17.918162</td>\n",
       "    </tr>\n",
       "    <tr>\n",
       "      <th>24</th>\n",
       "      <td>31</td>\n",
       "      <td>7</td>\n",
       "      <td>1</td>\n",
       "      <td>0</td>\n",
       "      <td>10000</td>\n",
       "      <td>0</td>\n",
       "      <td>0</td>\n",
       "      <td>10000</td>\n",
       "      <td>0</td>\n",
       "      <td>0</td>\n",
       "      <td>21.832654</td>\n",
       "      <td>12.029697</td>\n",
       "    </tr>\n",
       "    <tr>\n",
       "      <th>25</th>\n",
       "      <td>31</td>\n",
       "      <td>7</td>\n",
       "      <td>2</td>\n",
       "      <td>645</td>\n",
       "      <td>9355</td>\n",
       "      <td>20</td>\n",
       "      <td>625</td>\n",
       "      <td>9355</td>\n",
       "      <td>20</td>\n",
       "      <td>625</td>\n",
       "      <td>23.801091</td>\n",
       "      <td>19.197422</td>\n",
       "    </tr>\n",
       "    <tr>\n",
       "      <th>26</th>\n",
       "      <td>31</td>\n",
       "      <td>7</td>\n",
       "      <td>3</td>\n",
       "      <td>3419</td>\n",
       "      <td>6581</td>\n",
       "      <td>137</td>\n",
       "      <td>3282</td>\n",
       "      <td>6581</td>\n",
       "      <td>137</td>\n",
       "      <td>3282</td>\n",
       "      <td>20.467444</td>\n",
       "      <td>26.651836</td>\n",
       "    </tr>\n",
       "    <tr>\n",
       "      <th>27</th>\n",
       "      <td>63</td>\n",
       "      <td>1</td>\n",
       "      <td>1</td>\n",
       "      <td>0</td>\n",
       "      <td>10000</td>\n",
       "      <td>0</td>\n",
       "      <td>0</td>\n",
       "      <td>10000</td>\n",
       "      <td>0</td>\n",
       "      <td>0</td>\n",
       "      <td>0.441690</td>\n",
       "      <td>1.593049</td>\n",
       "    </tr>\n",
       "    <tr>\n",
       "      <th>28</th>\n",
       "      <td>63</td>\n",
       "      <td>1</td>\n",
       "      <td>2</td>\n",
       "      <td>566</td>\n",
       "      <td>9434</td>\n",
       "      <td>566</td>\n",
       "      <td>0</td>\n",
       "      <td>9434</td>\n",
       "      <td>566</td>\n",
       "      <td>0</td>\n",
       "      <td>0.416728</td>\n",
       "      <td>1.525151</td>\n",
       "    </tr>\n",
       "    <tr>\n",
       "      <th>29</th>\n",
       "      <td>63</td>\n",
       "      <td>1</td>\n",
       "      <td>3</td>\n",
       "      <td>1782</td>\n",
       "      <td>8218</td>\n",
       "      <td>1782</td>\n",
       "      <td>0</td>\n",
       "      <td>8218</td>\n",
       "      <td>1782</td>\n",
       "      <td>0</td>\n",
       "      <td>0.710524</td>\n",
       "      <td>2.594324</td>\n",
       "    </tr>\n",
       "    <tr>\n",
       "      <th>30</th>\n",
       "      <td>63</td>\n",
       "      <td>2</td>\n",
       "      <td>1</td>\n",
       "      <td>0</td>\n",
       "      <td>10000</td>\n",
       "      <td>0</td>\n",
       "      <td>0</td>\n",
       "      <td>10000</td>\n",
       "      <td>0</td>\n",
       "      <td>0</td>\n",
       "      <td>1.002094</td>\n",
       "      <td>1.863004</td>\n",
       "    </tr>\n",
       "    <tr>\n",
       "      <th>31</th>\n",
       "      <td>63</td>\n",
       "      <td>2</td>\n",
       "      <td>2</td>\n",
       "      <td>419</td>\n",
       "      <td>9581</td>\n",
       "      <td>191</td>\n",
       "      <td>228</td>\n",
       "      <td>9581</td>\n",
       "      <td>191</td>\n",
       "      <td>228</td>\n",
       "      <td>1.597078</td>\n",
       "      <td>3.262952</td>\n",
       "    </tr>\n",
       "    <tr>\n",
       "      <th>32</th>\n",
       "      <td>63</td>\n",
       "      <td>2</td>\n",
       "      <td>3</td>\n",
       "      <td>2710</td>\n",
       "      <td>7290</td>\n",
       "      <td>1306</td>\n",
       "      <td>1404</td>\n",
       "      <td>7290</td>\n",
       "      <td>1306</td>\n",
       "      <td>1404</td>\n",
       "      <td>2.619277</td>\n",
       "      <td>6.263365</td>\n",
       "    </tr>\n",
       "    <tr>\n",
       "      <th>33</th>\n",
       "      <td>63</td>\n",
       "      <td>3</td>\n",
       "      <td>1</td>\n",
       "      <td>0</td>\n",
       "      <td>10000</td>\n",
       "      <td>0</td>\n",
       "      <td>0</td>\n",
       "      <td>10000</td>\n",
       "      <td>0</td>\n",
       "      <td>0</td>\n",
       "      <td>2.832270</td>\n",
       "      <td>3.653784</td>\n",
       "    </tr>\n",
       "    <tr>\n",
       "      <th>34</th>\n",
       "      <td>63</td>\n",
       "      <td>3</td>\n",
       "      <td>2</td>\n",
       "      <td>268</td>\n",
       "      <td>9732</td>\n",
       "      <td>43</td>\n",
       "      <td>225</td>\n",
       "      <td>9732</td>\n",
       "      <td>43</td>\n",
       "      <td>225</td>\n",
       "      <td>3.579413</td>\n",
       "      <td>4.974113</td>\n",
       "    </tr>\n",
       "    <tr>\n",
       "      <th>35</th>\n",
       "      <td>63</td>\n",
       "      <td>3</td>\n",
       "      <td>3</td>\n",
       "      <td>3203</td>\n",
       "      <td>6797</td>\n",
       "      <td>599</td>\n",
       "      <td>2604</td>\n",
       "      <td>6797</td>\n",
       "      <td>599</td>\n",
       "      <td>2604</td>\n",
       "      <td>5.103746</td>\n",
       "      <td>10.196848</td>\n",
       "    </tr>\n",
       "    <tr>\n",
       "      <th>36</th>\n",
       "      <td>63</td>\n",
       "      <td>4</td>\n",
       "      <td>1</td>\n",
       "      <td>0</td>\n",
       "      <td>10000</td>\n",
       "      <td>0</td>\n",
       "      <td>0</td>\n",
       "      <td>10000</td>\n",
       "      <td>0</td>\n",
       "      <td>0</td>\n",
       "      <td>5.425744</td>\n",
       "      <td>5.307448</td>\n",
       "    </tr>\n",
       "    <tr>\n",
       "      <th>37</th>\n",
       "      <td>63</td>\n",
       "      <td>4</td>\n",
       "      <td>2</td>\n",
       "      <td>384</td>\n",
       "      <td>9616</td>\n",
       "      <td>11</td>\n",
       "      <td>373</td>\n",
       "      <td>9616</td>\n",
       "      <td>11</td>\n",
       "      <td>373</td>\n",
       "      <td>6.865499</td>\n",
       "      <td>7.977324</td>\n",
       "    </tr>\n",
       "    <tr>\n",
       "      <th>38</th>\n",
       "      <td>63</td>\n",
       "      <td>4</td>\n",
       "      <td>3</td>\n",
       "      <td>3974</td>\n",
       "      <td>6026</td>\n",
       "      <td>158</td>\n",
       "      <td>3816</td>\n",
       "      <td>6026</td>\n",
       "      <td>158</td>\n",
       "      <td>3816</td>\n",
       "      <td>8.689767</td>\n",
       "      <td>15.465904</td>\n",
       "    </tr>\n",
       "    <tr>\n",
       "      <th>39</th>\n",
       "      <td>63</td>\n",
       "      <td>5</td>\n",
       "      <td>1</td>\n",
       "      <td>0</td>\n",
       "      <td>10000</td>\n",
       "      <td>0</td>\n",
       "      <td>0</td>\n",
       "      <td>10000</td>\n",
       "      <td>0</td>\n",
       "      <td>0</td>\n",
       "      <td>9.130939</td>\n",
       "      <td>7.153699</td>\n",
       "    </tr>\n",
       "    <tr>\n",
       "      <th>40</th>\n",
       "      <td>63</td>\n",
       "      <td>5</td>\n",
       "      <td>2</td>\n",
       "      <td>432</td>\n",
       "      <td>9568</td>\n",
       "      <td>23</td>\n",
       "      <td>409</td>\n",
       "      <td>9568</td>\n",
       "      <td>23</td>\n",
       "      <td>409</td>\n",
       "      <td>11.159973</td>\n",
       "      <td>10.987796</td>\n",
       "    </tr>\n",
       "    <tr>\n",
       "      <th>41</th>\n",
       "      <td>63</td>\n",
       "      <td>5</td>\n",
       "      <td>3</td>\n",
       "      <td>4302</td>\n",
       "      <td>5698</td>\n",
       "      <td>186</td>\n",
       "      <td>4116</td>\n",
       "      <td>5698</td>\n",
       "      <td>186</td>\n",
       "      <td>4116</td>\n",
       "      <td>12.239836</td>\n",
       "      <td>20.515295</td>\n",
       "    </tr>\n",
       "    <tr>\n",
       "      <th>42</th>\n",
       "      <td>63</td>\n",
       "      <td>6</td>\n",
       "      <td>1</td>\n",
       "      <td>0</td>\n",
       "      <td>10000</td>\n",
       "      <td>0</td>\n",
       "      <td>0</td>\n",
       "      <td>10000</td>\n",
       "      <td>0</td>\n",
       "      <td>0</td>\n",
       "      <td>13.800295</td>\n",
       "      <td>8.879763</td>\n",
       "    </tr>\n",
       "    <tr>\n",
       "      <th>43</th>\n",
       "      <td>63</td>\n",
       "      <td>6</td>\n",
       "      <td>2</td>\n",
       "      <td>1171</td>\n",
       "      <td>8829</td>\n",
       "      <td>2</td>\n",
       "      <td>1169</td>\n",
       "      <td>8829</td>\n",
       "      <td>2</td>\n",
       "      <td>1169</td>\n",
       "      <td>16.967506</td>\n",
       "      <td>17.430661</td>\n",
       "    </tr>\n",
       "    <tr>\n",
       "      <th>44</th>\n",
       "      <td>63</td>\n",
       "      <td>6</td>\n",
       "      <td>3</td>\n",
       "      <td>4354</td>\n",
       "      <td>5646</td>\n",
       "      <td>29</td>\n",
       "      <td>4325</td>\n",
       "      <td>5646</td>\n",
       "      <td>29</td>\n",
       "      <td>4325</td>\n",
       "      <td>16.040164</td>\n",
       "      <td>24.986658</td>\n",
       "    </tr>\n",
       "    <tr>\n",
       "      <th>45</th>\n",
       "      <td>63</td>\n",
       "      <td>7</td>\n",
       "      <td>1</td>\n",
       "      <td>0</td>\n",
       "      <td>10000</td>\n",
       "      <td>0</td>\n",
       "      <td>0</td>\n",
       "      <td>10000</td>\n",
       "      <td>0</td>\n",
       "      <td>0</td>\n",
       "      <td>21.455190</td>\n",
       "      <td>12.426105</td>\n",
       "    </tr>\n",
       "    <tr>\n",
       "      <th>46</th>\n",
       "      <td>63</td>\n",
       "      <td>7</td>\n",
       "      <td>2</td>\n",
       "      <td>505</td>\n",
       "      <td>9495</td>\n",
       "      <td>1</td>\n",
       "      <td>504</td>\n",
       "      <td>9495</td>\n",
       "      <td>1</td>\n",
       "      <td>504</td>\n",
       "      <td>23.513076</td>\n",
       "      <td>18.162182</td>\n",
       "    </tr>\n",
       "    <tr>\n",
       "      <th>47</th>\n",
       "      <td>63</td>\n",
       "      <td>7</td>\n",
       "      <td>3</td>\n",
       "      <td>4456</td>\n",
       "      <td>5544</td>\n",
       "      <td>5</td>\n",
       "      <td>4451</td>\n",
       "      <td>5544</td>\n",
       "      <td>5</td>\n",
       "      <td>4451</td>\n",
       "      <td>20.547171</td>\n",
       "      <td>29.140253</td>\n",
       "    </tr>\n",
       "    <tr>\n",
       "      <th>48</th>\n",
       "      <td>63</td>\n",
       "      <td>10</td>\n",
       "      <td>1</td>\n",
       "      <td>0</td>\n",
       "      <td>10000</td>\n",
       "      <td>0</td>\n",
       "      <td>0</td>\n",
       "      <td>10000</td>\n",
       "      <td>0</td>\n",
       "      <td>0</td>\n",
       "      <td>57.738851</td>\n",
       "      <td>25.846090</td>\n",
       "    </tr>\n",
       "    <tr>\n",
       "      <th>49</th>\n",
       "      <td>63</td>\n",
       "      <td>10</td>\n",
       "      <td>2</td>\n",
       "      <td>1017</td>\n",
       "      <td>8983</td>\n",
       "      <td>0</td>\n",
       "      <td>1017</td>\n",
       "      <td>8983</td>\n",
       "      <td>0</td>\n",
       "      <td>1017</td>\n",
       "      <td>50.550377</td>\n",
       "      <td>34.331175</td>\n",
       "    </tr>\n",
       "    <tr>\n",
       "      <th>50</th>\n",
       "      <td>63</td>\n",
       "      <td>10</td>\n",
       "      <td>3</td>\n",
       "      <td>3872</td>\n",
       "      <td>6128</td>\n",
       "      <td>6</td>\n",
       "      <td>3866</td>\n",
       "      <td>6128</td>\n",
       "      <td>6</td>\n",
       "      <td>3866</td>\n",
       "      <td>39.170765</td>\n",
       "      <td>42.857307</td>\n",
       "    </tr>\n",
       "    <tr>\n",
       "      <th>51</th>\n",
       "      <td>63</td>\n",
       "      <td>11</td>\n",
       "      <td>1</td>\n",
       "      <td>0</td>\n",
       "      <td>10000</td>\n",
       "      <td>0</td>\n",
       "      <td>0</td>\n",
       "      <td>10000</td>\n",
       "      <td>0</td>\n",
       "      <td>0</td>\n",
       "      <td>72.193035</td>\n",
       "      <td>26.040520</td>\n",
       "    </tr>\n",
       "    <tr>\n",
       "      <th>52</th>\n",
       "      <td>63</td>\n",
       "      <td>11</td>\n",
       "      <td>2</td>\n",
       "      <td>551</td>\n",
       "      <td>9449</td>\n",
       "      <td>0</td>\n",
       "      <td>551</td>\n",
       "      <td>9449</td>\n",
       "      <td>0</td>\n",
       "      <td>551</td>\n",
       "      <td>67.458173</td>\n",
       "      <td>34.993011</td>\n",
       "    </tr>\n",
       "    <tr>\n",
       "      <th>53</th>\n",
       "      <td>63</td>\n",
       "      <td>11</td>\n",
       "      <td>3</td>\n",
       "      <td>4391</td>\n",
       "      <td>5609</td>\n",
       "      <td>14</td>\n",
       "      <td>4377</td>\n",
       "      <td>5609</td>\n",
       "      <td>14</td>\n",
       "      <td>4377</td>\n",
       "      <td>45.061476</td>\n",
       "      <td>49.301864</td>\n",
       "    </tr>\n",
       "    <tr>\n",
       "      <th>54</th>\n",
       "      <td>63</td>\n",
       "      <td>13</td>\n",
       "      <td>1</td>\n",
       "      <td>0</td>\n",
       "      <td>10000</td>\n",
       "      <td>0</td>\n",
       "      <td>0</td>\n",
       "      <td>10000</td>\n",
       "      <td>0</td>\n",
       "      <td>0</td>\n",
       "      <td>114.211208</td>\n",
       "      <td>32.825032</td>\n",
       "    </tr>\n",
       "    <tr>\n",
       "      <th>55</th>\n",
       "      <td>63</td>\n",
       "      <td>13</td>\n",
       "      <td>2</td>\n",
       "      <td>565</td>\n",
       "      <td>9435</td>\n",
       "      <td>1</td>\n",
       "      <td>564</td>\n",
       "      <td>9435</td>\n",
       "      <td>1</td>\n",
       "      <td>564</td>\n",
       "      <td>101.706916</td>\n",
       "      <td>45.579454</td>\n",
       "    </tr>\n",
       "    <tr>\n",
       "      <th>56</th>\n",
       "      <td>63</td>\n",
       "      <td>13</td>\n",
       "      <td>3</td>\n",
       "      <td>4129</td>\n",
       "      <td>5871</td>\n",
       "      <td>3</td>\n",
       "      <td>4126</td>\n",
       "      <td>5871</td>\n",
       "      <td>3</td>\n",
       "      <td>4126</td>\n",
       "      <td>65.875663</td>\n",
       "      <td>61.643344</td>\n",
       "    </tr>\n",
       "    <tr>\n",
       "      <th>57</th>\n",
       "      <td>63</td>\n",
       "      <td>15</td>\n",
       "      <td>1</td>\n",
       "      <td>0</td>\n",
       "      <td>10000</td>\n",
       "      <td>0</td>\n",
       "      <td>0</td>\n",
       "      <td>10000</td>\n",
       "      <td>0</td>\n",
       "      <td>0</td>\n",
       "      <td>171.803122</td>\n",
       "      <td>47.885419</td>\n",
       "    </tr>\n",
       "    <tr>\n",
       "      <th>58</th>\n",
       "      <td>63</td>\n",
       "      <td>15</td>\n",
       "      <td>2</td>\n",
       "      <td>825</td>\n",
       "      <td>9175</td>\n",
       "      <td>0</td>\n",
       "      <td>825</td>\n",
       "      <td>9175</td>\n",
       "      <td>0</td>\n",
       "      <td>825</td>\n",
       "      <td>141.368384</td>\n",
       "      <td>59.544360</td>\n",
       "    </tr>\n",
       "    <tr>\n",
       "      <th>59</th>\n",
       "      <td>63</td>\n",
       "      <td>15</td>\n",
       "      <td>3</td>\n",
       "      <td>4183</td>\n",
       "      <td>5817</td>\n",
       "      <td>0</td>\n",
       "      <td>4183</td>\n",
       "      <td>5817</td>\n",
       "      <td>0</td>\n",
       "      <td>4183</td>\n",
       "      <td>90.551945</td>\n",
       "      <td>75.908159</td>\n",
       "    </tr>\n",
       "  </tbody>\n",
       "</table>\n",
       "</div>"
      ],
      "text/plain": [
       "     n   t  test  n_overdrives  pgz_n_succ  pgz_n_err  pgz_n_refuse  \\\n",
       "0    7   1     1             0       10000          0             0   \n",
       "1    7   1     2            73        9927         73             0   \n",
       "2    7   1     3          1494        8506       1494             0   \n",
       "3   15   1     1             0       10000          0             0   \n",
       "4   15   1     2           117        9883        117             0   \n",
       "5   15   1     3          1420        8580       1420             0   \n",
       "6   15   2     1             0       10000          0             0   \n",
       "7   15   2     2           212        9788         85           127   \n",
       "8   15   2     3          2457        7543        934          1523   \n",
       "9   15   3     1             0       10000          0             0   \n",
       "10  15   3     2           300        9700        124           176   \n",
       "11  15   3     3          2589        7411       1076          1513   \n",
       "12  31   1     1             0       10000          0             0   \n",
       "13  31   1     2           148        9852        148             0   \n",
       "14  31   1     3          1701        8299       1701             0   \n",
       "15  31   2     1             0       10000          0             0   \n",
       "16  31   2     2           174        9826         73           101   \n",
       "17  31   2     3          3301        6699       1378          1923   \n",
       "18  31   3     1             0       10000          0             0   \n",
       "19  31   3     2           360        9640         63           297   \n",
       "20  31   3     3          3777        6223        603          3174   \n",
       "21  31   5     1             0       10000          0             0   \n",
       "22  31   5     2           379        9621         58           321   \n",
       "23  31   5     3          3507        6493        461          3046   \n",
       "24  31   7     1             0       10000          0             0   \n",
       "25  31   7     2           645        9355         20           625   \n",
       "26  31   7     3          3419        6581        137          3282   \n",
       "27  63   1     1             0       10000          0             0   \n",
       "28  63   1     2           566        9434        566             0   \n",
       "29  63   1     3          1782        8218       1782             0   \n",
       "30  63   2     1             0       10000          0             0   \n",
       "31  63   2     2           419        9581        191           228   \n",
       "32  63   2     3          2710        7290       1306          1404   \n",
       "33  63   3     1             0       10000          0             0   \n",
       "34  63   3     2           268        9732         43           225   \n",
       "35  63   3     3          3203        6797        599          2604   \n",
       "36  63   4     1             0       10000          0             0   \n",
       "37  63   4     2           384        9616         11           373   \n",
       "38  63   4     3          3974        6026        158          3816   \n",
       "39  63   5     1             0       10000          0             0   \n",
       "40  63   5     2           432        9568         23           409   \n",
       "41  63   5     3          4302        5698        186          4116   \n",
       "42  63   6     1             0       10000          0             0   \n",
       "43  63   6     2          1171        8829          2          1169   \n",
       "44  63   6     3          4354        5646         29          4325   \n",
       "45  63   7     1             0       10000          0             0   \n",
       "46  63   7     2           505        9495          1           504   \n",
       "47  63   7     3          4456        5544          5          4451   \n",
       "48  63  10     1             0       10000          0             0   \n",
       "49  63  10     2          1017        8983          0          1017   \n",
       "50  63  10     3          3872        6128          6          3866   \n",
       "51  63  11     1             0       10000          0             0   \n",
       "52  63  11     2           551        9449          0           551   \n",
       "53  63  11     3          4391        5609         14          4377   \n",
       "54  63  13     1             0       10000          0             0   \n",
       "55  63  13     2           565        9435          1           564   \n",
       "56  63  13     3          4129        5871          3          4126   \n",
       "57  63  15     1             0       10000          0             0   \n",
       "58  63  15     2           825        9175          0           825   \n",
       "59  63  15     3          4183        5817          0          4183   \n",
       "\n",
       "    euclid_n_succ  euclid_n_err  euclid_n_refuse    pgz_time  euclid_time  \n",
       "0           10000             0                0    0.053358     0.203457  \n",
       "1            9927            73                0    0.162503     0.619373  \n",
       "2            8506          1494                0    0.601855     2.322008  \n",
       "3           10000             0                0    0.110557     0.412387  \n",
       "4            9883           117                0    0.210682     0.766882  \n",
       "5            8580          1420                0    0.591846     2.271186  \n",
       "6           10000             0                0    0.491396     0.875439  \n",
       "7            9788            85              127    1.306225     2.579588  \n",
       "8            7543           934             1523    2.399009     5.650297  \n",
       "9           10000             0                0    2.051725     2.412509  \n",
       "10           9700           124              176    3.639027     5.026078  \n",
       "11           7411          1076             1513    4.854858     8.815676  \n",
       "12          10000             0                0    0.231470     0.865476  \n",
       "13           9852           148                0    0.218774     0.814881  \n",
       "14           8299          1701                0    0.665201     2.502017  \n",
       "15          10000             0                0    0.535488     0.956363  \n",
       "16           9826            73              101    1.261528     2.501006  \n",
       "17           6699          1378             1923    2.641430     6.458144  \n",
       "18          10000             0                0    2.176690     2.694820  \n",
       "19           9640            63              297    3.669877     5.371347  \n",
       "20           6223           603             3174    5.090748    10.333877  \n",
       "21          10000             0                0    8.752275     6.543626  \n",
       "22           9621            58              321   11.367690    11.053808  \n",
       "23           6493           461             3046   11.366011    17.918162  \n",
       "24          10000             0                0   21.832654    12.029697  \n",
       "25           9355            20              625   23.801091    19.197422  \n",
       "26           6581           137             3282   20.467444    26.651836  \n",
       "27          10000             0                0    0.441690     1.593049  \n",
       "28           9434           566                0    0.416728     1.525151  \n",
       "29           8218          1782                0    0.710524     2.594324  \n",
       "30          10000             0                0    1.002094     1.863004  \n",
       "31           9581           191              228    1.597078     3.262952  \n",
       "32           7290          1306             1404    2.619277     6.263365  \n",
       "33          10000             0                0    2.832270     3.653784  \n",
       "34           9732            43              225    3.579413     4.974113  \n",
       "35           6797           599             2604    5.103746    10.196848  \n",
       "36          10000             0                0    5.425744     5.307448  \n",
       "37           9616            11              373    6.865499     7.977324  \n",
       "38           6026           158             3816    8.689767    15.465904  \n",
       "39          10000             0                0    9.130939     7.153699  \n",
       "40           9568            23              409   11.159973    10.987796  \n",
       "41           5698           186             4116   12.239836    20.515295  \n",
       "42          10000             0                0   13.800295     8.879763  \n",
       "43           8829             2             1169   16.967506    17.430661  \n",
       "44           5646            29             4325   16.040164    24.986658  \n",
       "45          10000             0                0   21.455190    12.426105  \n",
       "46           9495             1              504   23.513076    18.162182  \n",
       "47           5544             5             4451   20.547171    29.140253  \n",
       "48          10000             0                0   57.738851    25.846090  \n",
       "49           8983             0             1017   50.550377    34.331175  \n",
       "50           6128             6             3866   39.170765    42.857307  \n",
       "51          10000             0                0   72.193035    26.040520  \n",
       "52           9449             0              551   67.458173    34.993011  \n",
       "53           5609            14             4377   45.061476    49.301864  \n",
       "54          10000             0                0  114.211208    32.825032  \n",
       "55           9435             1              564  101.706916    45.579454  \n",
       "56           5871             3             4126   65.875663    61.643344  \n",
       "57          10000             0                0  171.803122    47.885419  \n",
       "58           9175             0              825  141.368384    59.544360  \n",
       "59           5817             0             4183   90.551945    75.908159  "
      ]
     },
     "execution_count": 130,
     "metadata": {},
     "output_type": "execute_result"
    }
   ],
   "source": [
    "df_tests"
   ]
  },
  {
   "cell_type": "code",
   "execution_count": 131,
   "metadata": {},
   "outputs": [],
   "source": [
    "df_tests.to_csv(\"decode_tests_table.csv\", sep=',')"
   ]
  },
  {
   "cell_type": "code",
   "execution_count": 2,
   "metadata": {},
   "outputs": [],
   "source": [
    "df_tests = pd.read_csv(\"decode_tests_table.csv\", sep=',', index_col=0)"
   ]
  },
  {
   "cell_type": "code",
   "execution_count": 3,
   "metadata": {},
   "outputs": [],
   "source": [
    "df_tests[\"pgz_err_ratio\"] = df_tests[\"pgz_n_err\"] / df_tests.n_overdrives\n",
    "df_tests[\"pgz_ref_ratio\"] = df_tests[\"pgz_n_refuse\"] / df_tests.n_overdrives\n",
    "df_tests[\"euclid_err_ratio\"] = df_tests[\"euclid_n_err\"] / df_tests.n_overdrives\n",
    "df_tests[\"euclid_ref_ratio\"] = df_tests[\"euclid_n_refuse\"] / df_tests.n_overdrives"
   ]
  },
  {
   "cell_type": "code",
   "execution_count": 7,
   "metadata": {},
   "outputs": [
    {
     "name": "stdout",
     "output_type": "stream",
     "text": [
      "True\n",
      "True\n"
     ]
    }
   ],
   "source": [
    "print((df_tests.pgz_n_succ + df_tests.n_overdrives == n_msg).all())\n",
    "print((df_tests.euclid_n_succ + df_tests.n_overdrives == n_msg).all())"
   ]
  },
  {
   "cell_type": "code",
   "execution_count": 8,
   "metadata": {},
   "outputs": [
    {
     "data": {
      "text/html": [
       "<div>\n",
       "<style scoped>\n",
       "    .dataframe tbody tr th:only-of-type {\n",
       "        vertical-align: middle;\n",
       "    }\n",
       "\n",
       "    .dataframe tbody tr th {\n",
       "        vertical-align: top;\n",
       "    }\n",
       "\n",
       "    .dataframe thead th {\n",
       "        text-align: right;\n",
       "    }\n",
       "</style>\n",
       "<table border=\"1\" class=\"dataframe\">\n",
       "  <thead>\n",
       "    <tr style=\"text-align: right;\">\n",
       "      <th></th>\n",
       "      <th>n</th>\n",
       "      <th>t</th>\n",
       "      <th>test</th>\n",
       "      <th>n_overdrives</th>\n",
       "      <th>pgz_err_ratio</th>\n",
       "      <th>pgz_ref_ratio</th>\n",
       "      <th>euclid_err_ratio</th>\n",
       "      <th>euclid_ref_ratio</th>\n",
       "    </tr>\n",
       "  </thead>\n",
       "  <tbody>\n",
       "    <tr>\n",
       "      <th>1</th>\n",
       "      <td>7</td>\n",
       "      <td>1</td>\n",
       "      <td>2</td>\n",
       "      <td>73</td>\n",
       "      <td>1.000000</td>\n",
       "      <td>0.000000</td>\n",
       "      <td>1.000000</td>\n",
       "      <td>0.000000</td>\n",
       "    </tr>\n",
       "    <tr>\n",
       "      <th>2</th>\n",
       "      <td>7</td>\n",
       "      <td>1</td>\n",
       "      <td>3</td>\n",
       "      <td>1494</td>\n",
       "      <td>1.000000</td>\n",
       "      <td>0.000000</td>\n",
       "      <td>1.000000</td>\n",
       "      <td>0.000000</td>\n",
       "    </tr>\n",
       "    <tr>\n",
       "      <th>4</th>\n",
       "      <td>15</td>\n",
       "      <td>1</td>\n",
       "      <td>2</td>\n",
       "      <td>117</td>\n",
       "      <td>1.000000</td>\n",
       "      <td>0.000000</td>\n",
       "      <td>1.000000</td>\n",
       "      <td>0.000000</td>\n",
       "    </tr>\n",
       "    <tr>\n",
       "      <th>5</th>\n",
       "      <td>15</td>\n",
       "      <td>1</td>\n",
       "      <td>3</td>\n",
       "      <td>1420</td>\n",
       "      <td>1.000000</td>\n",
       "      <td>0.000000</td>\n",
       "      <td>1.000000</td>\n",
       "      <td>0.000000</td>\n",
       "    </tr>\n",
       "    <tr>\n",
       "      <th>7</th>\n",
       "      <td>15</td>\n",
       "      <td>2</td>\n",
       "      <td>2</td>\n",
       "      <td>212</td>\n",
       "      <td>0.400943</td>\n",
       "      <td>0.599057</td>\n",
       "      <td>0.400943</td>\n",
       "      <td>0.599057</td>\n",
       "    </tr>\n",
       "    <tr>\n",
       "      <th>8</th>\n",
       "      <td>15</td>\n",
       "      <td>2</td>\n",
       "      <td>3</td>\n",
       "      <td>2457</td>\n",
       "      <td>0.380138</td>\n",
       "      <td>0.619862</td>\n",
       "      <td>0.380138</td>\n",
       "      <td>0.619862</td>\n",
       "    </tr>\n",
       "    <tr>\n",
       "      <th>10</th>\n",
       "      <td>15</td>\n",
       "      <td>3</td>\n",
       "      <td>2</td>\n",
       "      <td>300</td>\n",
       "      <td>0.413333</td>\n",
       "      <td>0.586667</td>\n",
       "      <td>0.413333</td>\n",
       "      <td>0.586667</td>\n",
       "    </tr>\n",
       "    <tr>\n",
       "      <th>11</th>\n",
       "      <td>15</td>\n",
       "      <td>3</td>\n",
       "      <td>3</td>\n",
       "      <td>2589</td>\n",
       "      <td>0.415604</td>\n",
       "      <td>0.584396</td>\n",
       "      <td>0.415604</td>\n",
       "      <td>0.584396</td>\n",
       "    </tr>\n",
       "    <tr>\n",
       "      <th>13</th>\n",
       "      <td>31</td>\n",
       "      <td>1</td>\n",
       "      <td>2</td>\n",
       "      <td>148</td>\n",
       "      <td>1.000000</td>\n",
       "      <td>0.000000</td>\n",
       "      <td>1.000000</td>\n",
       "      <td>0.000000</td>\n",
       "    </tr>\n",
       "    <tr>\n",
       "      <th>14</th>\n",
       "      <td>31</td>\n",
       "      <td>1</td>\n",
       "      <td>3</td>\n",
       "      <td>1701</td>\n",
       "      <td>1.000000</td>\n",
       "      <td>0.000000</td>\n",
       "      <td>1.000000</td>\n",
       "      <td>0.000000</td>\n",
       "    </tr>\n",
       "    <tr>\n",
       "      <th>16</th>\n",
       "      <td>31</td>\n",
       "      <td>2</td>\n",
       "      <td>2</td>\n",
       "      <td>174</td>\n",
       "      <td>0.419540</td>\n",
       "      <td>0.580460</td>\n",
       "      <td>0.419540</td>\n",
       "      <td>0.580460</td>\n",
       "    </tr>\n",
       "    <tr>\n",
       "      <th>17</th>\n",
       "      <td>31</td>\n",
       "      <td>2</td>\n",
       "      <td>3</td>\n",
       "      <td>3301</td>\n",
       "      <td>0.417449</td>\n",
       "      <td>0.582551</td>\n",
       "      <td>0.417449</td>\n",
       "      <td>0.582551</td>\n",
       "    </tr>\n",
       "    <tr>\n",
       "      <th>19</th>\n",
       "      <td>31</td>\n",
       "      <td>3</td>\n",
       "      <td>2</td>\n",
       "      <td>360</td>\n",
       "      <td>0.175000</td>\n",
       "      <td>0.825000</td>\n",
       "      <td>0.175000</td>\n",
       "      <td>0.825000</td>\n",
       "    </tr>\n",
       "    <tr>\n",
       "      <th>20</th>\n",
       "      <td>31</td>\n",
       "      <td>3</td>\n",
       "      <td>3</td>\n",
       "      <td>3777</td>\n",
       "      <td>0.159651</td>\n",
       "      <td>0.840349</td>\n",
       "      <td>0.159651</td>\n",
       "      <td>0.840349</td>\n",
       "    </tr>\n",
       "    <tr>\n",
       "      <th>22</th>\n",
       "      <td>31</td>\n",
       "      <td>5</td>\n",
       "      <td>2</td>\n",
       "      <td>379</td>\n",
       "      <td>0.153034</td>\n",
       "      <td>0.846966</td>\n",
       "      <td>0.153034</td>\n",
       "      <td>0.846966</td>\n",
       "    </tr>\n",
       "    <tr>\n",
       "      <th>23</th>\n",
       "      <td>31</td>\n",
       "      <td>5</td>\n",
       "      <td>3</td>\n",
       "      <td>3507</td>\n",
       "      <td>0.131451</td>\n",
       "      <td>0.868549</td>\n",
       "      <td>0.131451</td>\n",
       "      <td>0.868549</td>\n",
       "    </tr>\n",
       "    <tr>\n",
       "      <th>25</th>\n",
       "      <td>31</td>\n",
       "      <td>7</td>\n",
       "      <td>2</td>\n",
       "      <td>645</td>\n",
       "      <td>0.031008</td>\n",
       "      <td>0.968992</td>\n",
       "      <td>0.031008</td>\n",
       "      <td>0.968992</td>\n",
       "    </tr>\n",
       "    <tr>\n",
       "      <th>26</th>\n",
       "      <td>31</td>\n",
       "      <td>7</td>\n",
       "      <td>3</td>\n",
       "      <td>3419</td>\n",
       "      <td>0.040070</td>\n",
       "      <td>0.959930</td>\n",
       "      <td>0.040070</td>\n",
       "      <td>0.959930</td>\n",
       "    </tr>\n",
       "    <tr>\n",
       "      <th>28</th>\n",
       "      <td>63</td>\n",
       "      <td>1</td>\n",
       "      <td>2</td>\n",
       "      <td>566</td>\n",
       "      <td>1.000000</td>\n",
       "      <td>0.000000</td>\n",
       "      <td>1.000000</td>\n",
       "      <td>0.000000</td>\n",
       "    </tr>\n",
       "    <tr>\n",
       "      <th>29</th>\n",
       "      <td>63</td>\n",
       "      <td>1</td>\n",
       "      <td>3</td>\n",
       "      <td>1782</td>\n",
       "      <td>1.000000</td>\n",
       "      <td>0.000000</td>\n",
       "      <td>1.000000</td>\n",
       "      <td>0.000000</td>\n",
       "    </tr>\n",
       "    <tr>\n",
       "      <th>31</th>\n",
       "      <td>63</td>\n",
       "      <td>2</td>\n",
       "      <td>2</td>\n",
       "      <td>419</td>\n",
       "      <td>0.455847</td>\n",
       "      <td>0.544153</td>\n",
       "      <td>0.455847</td>\n",
       "      <td>0.544153</td>\n",
       "    </tr>\n",
       "    <tr>\n",
       "      <th>32</th>\n",
       "      <td>63</td>\n",
       "      <td>2</td>\n",
       "      <td>3</td>\n",
       "      <td>2710</td>\n",
       "      <td>0.481919</td>\n",
       "      <td>0.518081</td>\n",
       "      <td>0.481919</td>\n",
       "      <td>0.518081</td>\n",
       "    </tr>\n",
       "    <tr>\n",
       "      <th>34</th>\n",
       "      <td>63</td>\n",
       "      <td>3</td>\n",
       "      <td>2</td>\n",
       "      <td>268</td>\n",
       "      <td>0.160448</td>\n",
       "      <td>0.839552</td>\n",
       "      <td>0.160448</td>\n",
       "      <td>0.839552</td>\n",
       "    </tr>\n",
       "    <tr>\n",
       "      <th>35</th>\n",
       "      <td>63</td>\n",
       "      <td>3</td>\n",
       "      <td>3</td>\n",
       "      <td>3203</td>\n",
       "      <td>0.187012</td>\n",
       "      <td>0.812988</td>\n",
       "      <td>0.187012</td>\n",
       "      <td>0.812988</td>\n",
       "    </tr>\n",
       "    <tr>\n",
       "      <th>37</th>\n",
       "      <td>63</td>\n",
       "      <td>4</td>\n",
       "      <td>2</td>\n",
       "      <td>384</td>\n",
       "      <td>0.028646</td>\n",
       "      <td>0.971354</td>\n",
       "      <td>0.028646</td>\n",
       "      <td>0.971354</td>\n",
       "    </tr>\n",
       "    <tr>\n",
       "      <th>38</th>\n",
       "      <td>63</td>\n",
       "      <td>4</td>\n",
       "      <td>3</td>\n",
       "      <td>3974</td>\n",
       "      <td>0.039758</td>\n",
       "      <td>0.960242</td>\n",
       "      <td>0.039758</td>\n",
       "      <td>0.960242</td>\n",
       "    </tr>\n",
       "    <tr>\n",
       "      <th>40</th>\n",
       "      <td>63</td>\n",
       "      <td>5</td>\n",
       "      <td>2</td>\n",
       "      <td>432</td>\n",
       "      <td>0.053241</td>\n",
       "      <td>0.946759</td>\n",
       "      <td>0.053241</td>\n",
       "      <td>0.946759</td>\n",
       "    </tr>\n",
       "    <tr>\n",
       "      <th>41</th>\n",
       "      <td>63</td>\n",
       "      <td>5</td>\n",
       "      <td>3</td>\n",
       "      <td>4302</td>\n",
       "      <td>0.043236</td>\n",
       "      <td>0.956764</td>\n",
       "      <td>0.043236</td>\n",
       "      <td>0.956764</td>\n",
       "    </tr>\n",
       "    <tr>\n",
       "      <th>43</th>\n",
       "      <td>63</td>\n",
       "      <td>6</td>\n",
       "      <td>2</td>\n",
       "      <td>1171</td>\n",
       "      <td>0.001708</td>\n",
       "      <td>0.998292</td>\n",
       "      <td>0.001708</td>\n",
       "      <td>0.998292</td>\n",
       "    </tr>\n",
       "    <tr>\n",
       "      <th>44</th>\n",
       "      <td>63</td>\n",
       "      <td>6</td>\n",
       "      <td>3</td>\n",
       "      <td>4354</td>\n",
       "      <td>0.006661</td>\n",
       "      <td>0.993339</td>\n",
       "      <td>0.006661</td>\n",
       "      <td>0.993339</td>\n",
       "    </tr>\n",
       "    <tr>\n",
       "      <th>46</th>\n",
       "      <td>63</td>\n",
       "      <td>7</td>\n",
       "      <td>2</td>\n",
       "      <td>505</td>\n",
       "      <td>0.001980</td>\n",
       "      <td>0.998020</td>\n",
       "      <td>0.001980</td>\n",
       "      <td>0.998020</td>\n",
       "    </tr>\n",
       "    <tr>\n",
       "      <th>47</th>\n",
       "      <td>63</td>\n",
       "      <td>7</td>\n",
       "      <td>3</td>\n",
       "      <td>4456</td>\n",
       "      <td>0.001122</td>\n",
       "      <td>0.998878</td>\n",
       "      <td>0.001122</td>\n",
       "      <td>0.998878</td>\n",
       "    </tr>\n",
       "    <tr>\n",
       "      <th>49</th>\n",
       "      <td>63</td>\n",
       "      <td>10</td>\n",
       "      <td>2</td>\n",
       "      <td>1017</td>\n",
       "      <td>0.000000</td>\n",
       "      <td>1.000000</td>\n",
       "      <td>0.000000</td>\n",
       "      <td>1.000000</td>\n",
       "    </tr>\n",
       "    <tr>\n",
       "      <th>50</th>\n",
       "      <td>63</td>\n",
       "      <td>10</td>\n",
       "      <td>3</td>\n",
       "      <td>3872</td>\n",
       "      <td>0.001550</td>\n",
       "      <td>0.998450</td>\n",
       "      <td>0.001550</td>\n",
       "      <td>0.998450</td>\n",
       "    </tr>\n",
       "    <tr>\n",
       "      <th>52</th>\n",
       "      <td>63</td>\n",
       "      <td>11</td>\n",
       "      <td>2</td>\n",
       "      <td>551</td>\n",
       "      <td>0.000000</td>\n",
       "      <td>1.000000</td>\n",
       "      <td>0.000000</td>\n",
       "      <td>1.000000</td>\n",
       "    </tr>\n",
       "    <tr>\n",
       "      <th>53</th>\n",
       "      <td>63</td>\n",
       "      <td>11</td>\n",
       "      <td>3</td>\n",
       "      <td>4391</td>\n",
       "      <td>0.003188</td>\n",
       "      <td>0.996812</td>\n",
       "      <td>0.003188</td>\n",
       "      <td>0.996812</td>\n",
       "    </tr>\n",
       "    <tr>\n",
       "      <th>55</th>\n",
       "      <td>63</td>\n",
       "      <td>13</td>\n",
       "      <td>2</td>\n",
       "      <td>565</td>\n",
       "      <td>0.001770</td>\n",
       "      <td>0.998230</td>\n",
       "      <td>0.001770</td>\n",
       "      <td>0.998230</td>\n",
       "    </tr>\n",
       "    <tr>\n",
       "      <th>56</th>\n",
       "      <td>63</td>\n",
       "      <td>13</td>\n",
       "      <td>3</td>\n",
       "      <td>4129</td>\n",
       "      <td>0.000727</td>\n",
       "      <td>0.999273</td>\n",
       "      <td>0.000727</td>\n",
       "      <td>0.999273</td>\n",
       "    </tr>\n",
       "    <tr>\n",
       "      <th>58</th>\n",
       "      <td>63</td>\n",
       "      <td>15</td>\n",
       "      <td>2</td>\n",
       "      <td>825</td>\n",
       "      <td>0.000000</td>\n",
       "      <td>1.000000</td>\n",
       "      <td>0.000000</td>\n",
       "      <td>1.000000</td>\n",
       "    </tr>\n",
       "    <tr>\n",
       "      <th>59</th>\n",
       "      <td>63</td>\n",
       "      <td>15</td>\n",
       "      <td>3</td>\n",
       "      <td>4183</td>\n",
       "      <td>0.000000</td>\n",
       "      <td>1.000000</td>\n",
       "      <td>0.000000</td>\n",
       "      <td>1.000000</td>\n",
       "    </tr>\n",
       "  </tbody>\n",
       "</table>\n",
       "</div>"
      ],
      "text/plain": [
       "     n   t  test  n_overdrives  pgz_err_ratio  pgz_ref_ratio  \\\n",
       "1    7   1     2            73       1.000000       0.000000   \n",
       "2    7   1     3          1494       1.000000       0.000000   \n",
       "4   15   1     2           117       1.000000       0.000000   \n",
       "5   15   1     3          1420       1.000000       0.000000   \n",
       "7   15   2     2           212       0.400943       0.599057   \n",
       "8   15   2     3          2457       0.380138       0.619862   \n",
       "10  15   3     2           300       0.413333       0.586667   \n",
       "11  15   3     3          2589       0.415604       0.584396   \n",
       "13  31   1     2           148       1.000000       0.000000   \n",
       "14  31   1     3          1701       1.000000       0.000000   \n",
       "16  31   2     2           174       0.419540       0.580460   \n",
       "17  31   2     3          3301       0.417449       0.582551   \n",
       "19  31   3     2           360       0.175000       0.825000   \n",
       "20  31   3     3          3777       0.159651       0.840349   \n",
       "22  31   5     2           379       0.153034       0.846966   \n",
       "23  31   5     3          3507       0.131451       0.868549   \n",
       "25  31   7     2           645       0.031008       0.968992   \n",
       "26  31   7     3          3419       0.040070       0.959930   \n",
       "28  63   1     2           566       1.000000       0.000000   \n",
       "29  63   1     3          1782       1.000000       0.000000   \n",
       "31  63   2     2           419       0.455847       0.544153   \n",
       "32  63   2     3          2710       0.481919       0.518081   \n",
       "34  63   3     2           268       0.160448       0.839552   \n",
       "35  63   3     3          3203       0.187012       0.812988   \n",
       "37  63   4     2           384       0.028646       0.971354   \n",
       "38  63   4     3          3974       0.039758       0.960242   \n",
       "40  63   5     2           432       0.053241       0.946759   \n",
       "41  63   5     3          4302       0.043236       0.956764   \n",
       "43  63   6     2          1171       0.001708       0.998292   \n",
       "44  63   6     3          4354       0.006661       0.993339   \n",
       "46  63   7     2           505       0.001980       0.998020   \n",
       "47  63   7     3          4456       0.001122       0.998878   \n",
       "49  63  10     2          1017       0.000000       1.000000   \n",
       "50  63  10     3          3872       0.001550       0.998450   \n",
       "52  63  11     2           551       0.000000       1.000000   \n",
       "53  63  11     3          4391       0.003188       0.996812   \n",
       "55  63  13     2           565       0.001770       0.998230   \n",
       "56  63  13     3          4129       0.000727       0.999273   \n",
       "58  63  15     2           825       0.000000       1.000000   \n",
       "59  63  15     3          4183       0.000000       1.000000   \n",
       "\n",
       "    euclid_err_ratio  euclid_ref_ratio  \n",
       "1           1.000000          0.000000  \n",
       "2           1.000000          0.000000  \n",
       "4           1.000000          0.000000  \n",
       "5           1.000000          0.000000  \n",
       "7           0.400943          0.599057  \n",
       "8           0.380138          0.619862  \n",
       "10          0.413333          0.586667  \n",
       "11          0.415604          0.584396  \n",
       "13          1.000000          0.000000  \n",
       "14          1.000000          0.000000  \n",
       "16          0.419540          0.580460  \n",
       "17          0.417449          0.582551  \n",
       "19          0.175000          0.825000  \n",
       "20          0.159651          0.840349  \n",
       "22          0.153034          0.846966  \n",
       "23          0.131451          0.868549  \n",
       "25          0.031008          0.968992  \n",
       "26          0.040070          0.959930  \n",
       "28          1.000000          0.000000  \n",
       "29          1.000000          0.000000  \n",
       "31          0.455847          0.544153  \n",
       "32          0.481919          0.518081  \n",
       "34          0.160448          0.839552  \n",
       "35          0.187012          0.812988  \n",
       "37          0.028646          0.971354  \n",
       "38          0.039758          0.960242  \n",
       "40          0.053241          0.946759  \n",
       "41          0.043236          0.956764  \n",
       "43          0.001708          0.998292  \n",
       "44          0.006661          0.993339  \n",
       "46          0.001980          0.998020  \n",
       "47          0.001122          0.998878  \n",
       "49          0.000000          1.000000  \n",
       "50          0.001550          0.998450  \n",
       "52          0.000000          1.000000  \n",
       "53          0.003188          0.996812  \n",
       "55          0.001770          0.998230  \n",
       "56          0.000727          0.999273  \n",
       "58          0.000000          1.000000  \n",
       "59          0.000000          1.000000  "
      ]
     },
     "execution_count": 8,
     "metadata": {},
     "output_type": "execute_result"
    }
   ],
   "source": [
    "df_er = df_tests[df_tests.test != 1][[\"n\",\"t\",\"test\",\"n_overdrives\",\n",
    "                                \"pgz_err_ratio\",\"pgz_ref_ratio\",\n",
    "                                \"euclid_err_ratio\",\"euclid_ref_ratio\"]]\n",
    "df_er"
   ]
  },
  {
   "cell_type": "code",
   "execution_count": 9,
   "metadata": {},
   "outputs": [
    {
     "name": "stdout",
     "output_type": "stream",
     "text": [
      "True\n",
      "True\n"
     ]
    }
   ],
   "source": [
    "print((df_er.pgz_err_ratio == df_er.euclid_err_ratio).all())\n",
    "print((df_er.pgz_ref_ratio == df_er.euclid_ref_ratio).all())"
   ]
  },
  {
   "cell_type": "code",
   "execution_count": 10,
   "metadata": {},
   "outputs": [
    {
     "data": {
      "text/html": [
       "<div>\n",
       "<style scoped>\n",
       "    .dataframe tbody tr th:only-of-type {\n",
       "        vertical-align: middle;\n",
       "    }\n",
       "\n",
       "    .dataframe tbody tr th {\n",
       "        vertical-align: top;\n",
       "    }\n",
       "\n",
       "    .dataframe thead th {\n",
       "        text-align: right;\n",
       "    }\n",
       "</style>\n",
       "<table border=\"1\" class=\"dataframe\">\n",
       "  <thead>\n",
       "    <tr style=\"text-align: right;\">\n",
       "      <th></th>\n",
       "      <th>n</th>\n",
       "      <th>t</th>\n",
       "      <th>test</th>\n",
       "      <th>n_overdrives</th>\n",
       "      <th>pgz_time</th>\n",
       "      <th>euclid_time</th>\n",
       "    </tr>\n",
       "  </thead>\n",
       "  <tbody>\n",
       "    <tr>\n",
       "      <th>0</th>\n",
       "      <td>7</td>\n",
       "      <td>1</td>\n",
       "      <td>1</td>\n",
       "      <td>0</td>\n",
       "      <td>0.053358</td>\n",
       "      <td>0.203457</td>\n",
       "    </tr>\n",
       "    <tr>\n",
       "      <th>1</th>\n",
       "      <td>7</td>\n",
       "      <td>1</td>\n",
       "      <td>2</td>\n",
       "      <td>73</td>\n",
       "      <td>0.162503</td>\n",
       "      <td>0.619373</td>\n",
       "    </tr>\n",
       "    <tr>\n",
       "      <th>2</th>\n",
       "      <td>7</td>\n",
       "      <td>1</td>\n",
       "      <td>3</td>\n",
       "      <td>1494</td>\n",
       "      <td>0.601855</td>\n",
       "      <td>2.322008</td>\n",
       "    </tr>\n",
       "    <tr>\n",
       "      <th>3</th>\n",
       "      <td>15</td>\n",
       "      <td>1</td>\n",
       "      <td>1</td>\n",
       "      <td>0</td>\n",
       "      <td>0.110557</td>\n",
       "      <td>0.412387</td>\n",
       "    </tr>\n",
       "    <tr>\n",
       "      <th>4</th>\n",
       "      <td>15</td>\n",
       "      <td>1</td>\n",
       "      <td>2</td>\n",
       "      <td>117</td>\n",
       "      <td>0.210682</td>\n",
       "      <td>0.766882</td>\n",
       "    </tr>\n",
       "    <tr>\n",
       "      <th>5</th>\n",
       "      <td>15</td>\n",
       "      <td>1</td>\n",
       "      <td>3</td>\n",
       "      <td>1420</td>\n",
       "      <td>0.591846</td>\n",
       "      <td>2.271186</td>\n",
       "    </tr>\n",
       "    <tr>\n",
       "      <th>6</th>\n",
       "      <td>15</td>\n",
       "      <td>2</td>\n",
       "      <td>1</td>\n",
       "      <td>0</td>\n",
       "      <td>0.491396</td>\n",
       "      <td>0.875439</td>\n",
       "    </tr>\n",
       "    <tr>\n",
       "      <th>7</th>\n",
       "      <td>15</td>\n",
       "      <td>2</td>\n",
       "      <td>2</td>\n",
       "      <td>212</td>\n",
       "      <td>1.306225</td>\n",
       "      <td>2.579588</td>\n",
       "    </tr>\n",
       "    <tr>\n",
       "      <th>8</th>\n",
       "      <td>15</td>\n",
       "      <td>2</td>\n",
       "      <td>3</td>\n",
       "      <td>2457</td>\n",
       "      <td>2.399009</td>\n",
       "      <td>5.650297</td>\n",
       "    </tr>\n",
       "    <tr>\n",
       "      <th>9</th>\n",
       "      <td>15</td>\n",
       "      <td>3</td>\n",
       "      <td>1</td>\n",
       "      <td>0</td>\n",
       "      <td>2.051725</td>\n",
       "      <td>2.412509</td>\n",
       "    </tr>\n",
       "    <tr>\n",
       "      <th>10</th>\n",
       "      <td>15</td>\n",
       "      <td>3</td>\n",
       "      <td>2</td>\n",
       "      <td>300</td>\n",
       "      <td>3.639027</td>\n",
       "      <td>5.026078</td>\n",
       "    </tr>\n",
       "    <tr>\n",
       "      <th>11</th>\n",
       "      <td>15</td>\n",
       "      <td>3</td>\n",
       "      <td>3</td>\n",
       "      <td>2589</td>\n",
       "      <td>4.854858</td>\n",
       "      <td>8.815676</td>\n",
       "    </tr>\n",
       "    <tr>\n",
       "      <th>12</th>\n",
       "      <td>31</td>\n",
       "      <td>1</td>\n",
       "      <td>1</td>\n",
       "      <td>0</td>\n",
       "      <td>0.231470</td>\n",
       "      <td>0.865476</td>\n",
       "    </tr>\n",
       "    <tr>\n",
       "      <th>13</th>\n",
       "      <td>31</td>\n",
       "      <td>1</td>\n",
       "      <td>2</td>\n",
       "      <td>148</td>\n",
       "      <td>0.218774</td>\n",
       "      <td>0.814881</td>\n",
       "    </tr>\n",
       "    <tr>\n",
       "      <th>14</th>\n",
       "      <td>31</td>\n",
       "      <td>1</td>\n",
       "      <td>3</td>\n",
       "      <td>1701</td>\n",
       "      <td>0.665201</td>\n",
       "      <td>2.502017</td>\n",
       "    </tr>\n",
       "    <tr>\n",
       "      <th>15</th>\n",
       "      <td>31</td>\n",
       "      <td>2</td>\n",
       "      <td>1</td>\n",
       "      <td>0</td>\n",
       "      <td>0.535488</td>\n",
       "      <td>0.956363</td>\n",
       "    </tr>\n",
       "    <tr>\n",
       "      <th>16</th>\n",
       "      <td>31</td>\n",
       "      <td>2</td>\n",
       "      <td>2</td>\n",
       "      <td>174</td>\n",
       "      <td>1.261528</td>\n",
       "      <td>2.501006</td>\n",
       "    </tr>\n",
       "    <tr>\n",
       "      <th>17</th>\n",
       "      <td>31</td>\n",
       "      <td>2</td>\n",
       "      <td>3</td>\n",
       "      <td>3301</td>\n",
       "      <td>2.641430</td>\n",
       "      <td>6.458144</td>\n",
       "    </tr>\n",
       "    <tr>\n",
       "      <th>18</th>\n",
       "      <td>31</td>\n",
       "      <td>3</td>\n",
       "      <td>1</td>\n",
       "      <td>0</td>\n",
       "      <td>2.176690</td>\n",
       "      <td>2.694820</td>\n",
       "    </tr>\n",
       "    <tr>\n",
       "      <th>19</th>\n",
       "      <td>31</td>\n",
       "      <td>3</td>\n",
       "      <td>2</td>\n",
       "      <td>360</td>\n",
       "      <td>3.669877</td>\n",
       "      <td>5.371347</td>\n",
       "    </tr>\n",
       "    <tr>\n",
       "      <th>20</th>\n",
       "      <td>31</td>\n",
       "      <td>3</td>\n",
       "      <td>3</td>\n",
       "      <td>3777</td>\n",
       "      <td>5.090748</td>\n",
       "      <td>10.333877</td>\n",
       "    </tr>\n",
       "    <tr>\n",
       "      <th>21</th>\n",
       "      <td>31</td>\n",
       "      <td>5</td>\n",
       "      <td>1</td>\n",
       "      <td>0</td>\n",
       "      <td>8.752275</td>\n",
       "      <td>6.543626</td>\n",
       "    </tr>\n",
       "    <tr>\n",
       "      <th>22</th>\n",
       "      <td>31</td>\n",
       "      <td>5</td>\n",
       "      <td>2</td>\n",
       "      <td>379</td>\n",
       "      <td>11.367690</td>\n",
       "      <td>11.053808</td>\n",
       "    </tr>\n",
       "    <tr>\n",
       "      <th>23</th>\n",
       "      <td>31</td>\n",
       "      <td>5</td>\n",
       "      <td>3</td>\n",
       "      <td>3507</td>\n",
       "      <td>11.366011</td>\n",
       "      <td>17.918162</td>\n",
       "    </tr>\n",
       "    <tr>\n",
       "      <th>24</th>\n",
       "      <td>31</td>\n",
       "      <td>7</td>\n",
       "      <td>1</td>\n",
       "      <td>0</td>\n",
       "      <td>21.832654</td>\n",
       "      <td>12.029697</td>\n",
       "    </tr>\n",
       "    <tr>\n",
       "      <th>25</th>\n",
       "      <td>31</td>\n",
       "      <td>7</td>\n",
       "      <td>2</td>\n",
       "      <td>645</td>\n",
       "      <td>23.801091</td>\n",
       "      <td>19.197422</td>\n",
       "    </tr>\n",
       "    <tr>\n",
       "      <th>26</th>\n",
       "      <td>31</td>\n",
       "      <td>7</td>\n",
       "      <td>3</td>\n",
       "      <td>3419</td>\n",
       "      <td>20.467444</td>\n",
       "      <td>26.651836</td>\n",
       "    </tr>\n",
       "    <tr>\n",
       "      <th>27</th>\n",
       "      <td>63</td>\n",
       "      <td>1</td>\n",
       "      <td>1</td>\n",
       "      <td>0</td>\n",
       "      <td>0.441690</td>\n",
       "      <td>1.593049</td>\n",
       "    </tr>\n",
       "    <tr>\n",
       "      <th>28</th>\n",
       "      <td>63</td>\n",
       "      <td>1</td>\n",
       "      <td>2</td>\n",
       "      <td>566</td>\n",
       "      <td>0.416728</td>\n",
       "      <td>1.525151</td>\n",
       "    </tr>\n",
       "    <tr>\n",
       "      <th>29</th>\n",
       "      <td>63</td>\n",
       "      <td>1</td>\n",
       "      <td>3</td>\n",
       "      <td>1782</td>\n",
       "      <td>0.710524</td>\n",
       "      <td>2.594324</td>\n",
       "    </tr>\n",
       "    <tr>\n",
       "      <th>30</th>\n",
       "      <td>63</td>\n",
       "      <td>2</td>\n",
       "      <td>1</td>\n",
       "      <td>0</td>\n",
       "      <td>1.002094</td>\n",
       "      <td>1.863004</td>\n",
       "    </tr>\n",
       "    <tr>\n",
       "      <th>31</th>\n",
       "      <td>63</td>\n",
       "      <td>2</td>\n",
       "      <td>2</td>\n",
       "      <td>419</td>\n",
       "      <td>1.597078</td>\n",
       "      <td>3.262952</td>\n",
       "    </tr>\n",
       "    <tr>\n",
       "      <th>32</th>\n",
       "      <td>63</td>\n",
       "      <td>2</td>\n",
       "      <td>3</td>\n",
       "      <td>2710</td>\n",
       "      <td>2.619277</td>\n",
       "      <td>6.263365</td>\n",
       "    </tr>\n",
       "    <tr>\n",
       "      <th>33</th>\n",
       "      <td>63</td>\n",
       "      <td>3</td>\n",
       "      <td>1</td>\n",
       "      <td>0</td>\n",
       "      <td>2.832270</td>\n",
       "      <td>3.653784</td>\n",
       "    </tr>\n",
       "    <tr>\n",
       "      <th>34</th>\n",
       "      <td>63</td>\n",
       "      <td>3</td>\n",
       "      <td>2</td>\n",
       "      <td>268</td>\n",
       "      <td>3.579413</td>\n",
       "      <td>4.974113</td>\n",
       "    </tr>\n",
       "    <tr>\n",
       "      <th>35</th>\n",
       "      <td>63</td>\n",
       "      <td>3</td>\n",
       "      <td>3</td>\n",
       "      <td>3203</td>\n",
       "      <td>5.103746</td>\n",
       "      <td>10.196848</td>\n",
       "    </tr>\n",
       "    <tr>\n",
       "      <th>36</th>\n",
       "      <td>63</td>\n",
       "      <td>4</td>\n",
       "      <td>1</td>\n",
       "      <td>0</td>\n",
       "      <td>5.425744</td>\n",
       "      <td>5.307448</td>\n",
       "    </tr>\n",
       "    <tr>\n",
       "      <th>37</th>\n",
       "      <td>63</td>\n",
       "      <td>4</td>\n",
       "      <td>2</td>\n",
       "      <td>384</td>\n",
       "      <td>6.865499</td>\n",
       "      <td>7.977324</td>\n",
       "    </tr>\n",
       "    <tr>\n",
       "      <th>38</th>\n",
       "      <td>63</td>\n",
       "      <td>4</td>\n",
       "      <td>3</td>\n",
       "      <td>3974</td>\n",
       "      <td>8.689767</td>\n",
       "      <td>15.465904</td>\n",
       "    </tr>\n",
       "    <tr>\n",
       "      <th>39</th>\n",
       "      <td>63</td>\n",
       "      <td>5</td>\n",
       "      <td>1</td>\n",
       "      <td>0</td>\n",
       "      <td>9.130939</td>\n",
       "      <td>7.153699</td>\n",
       "    </tr>\n",
       "    <tr>\n",
       "      <th>40</th>\n",
       "      <td>63</td>\n",
       "      <td>5</td>\n",
       "      <td>2</td>\n",
       "      <td>432</td>\n",
       "      <td>11.159973</td>\n",
       "      <td>10.987796</td>\n",
       "    </tr>\n",
       "    <tr>\n",
       "      <th>41</th>\n",
       "      <td>63</td>\n",
       "      <td>5</td>\n",
       "      <td>3</td>\n",
       "      <td>4302</td>\n",
       "      <td>12.239836</td>\n",
       "      <td>20.515295</td>\n",
       "    </tr>\n",
       "    <tr>\n",
       "      <th>42</th>\n",
       "      <td>63</td>\n",
       "      <td>6</td>\n",
       "      <td>1</td>\n",
       "      <td>0</td>\n",
       "      <td>13.800295</td>\n",
       "      <td>8.879763</td>\n",
       "    </tr>\n",
       "    <tr>\n",
       "      <th>43</th>\n",
       "      <td>63</td>\n",
       "      <td>6</td>\n",
       "      <td>2</td>\n",
       "      <td>1171</td>\n",
       "      <td>16.967506</td>\n",
       "      <td>17.430661</td>\n",
       "    </tr>\n",
       "    <tr>\n",
       "      <th>44</th>\n",
       "      <td>63</td>\n",
       "      <td>6</td>\n",
       "      <td>3</td>\n",
       "      <td>4354</td>\n",
       "      <td>16.040164</td>\n",
       "      <td>24.986658</td>\n",
       "    </tr>\n",
       "    <tr>\n",
       "      <th>45</th>\n",
       "      <td>63</td>\n",
       "      <td>7</td>\n",
       "      <td>1</td>\n",
       "      <td>0</td>\n",
       "      <td>21.455190</td>\n",
       "      <td>12.426105</td>\n",
       "    </tr>\n",
       "    <tr>\n",
       "      <th>46</th>\n",
       "      <td>63</td>\n",
       "      <td>7</td>\n",
       "      <td>2</td>\n",
       "      <td>505</td>\n",
       "      <td>23.513076</td>\n",
       "      <td>18.162182</td>\n",
       "    </tr>\n",
       "    <tr>\n",
       "      <th>47</th>\n",
       "      <td>63</td>\n",
       "      <td>7</td>\n",
       "      <td>3</td>\n",
       "      <td>4456</td>\n",
       "      <td>20.547171</td>\n",
       "      <td>29.140253</td>\n",
       "    </tr>\n",
       "    <tr>\n",
       "      <th>48</th>\n",
       "      <td>63</td>\n",
       "      <td>10</td>\n",
       "      <td>1</td>\n",
       "      <td>0</td>\n",
       "      <td>57.738851</td>\n",
       "      <td>25.846090</td>\n",
       "    </tr>\n",
       "    <tr>\n",
       "      <th>49</th>\n",
       "      <td>63</td>\n",
       "      <td>10</td>\n",
       "      <td>2</td>\n",
       "      <td>1017</td>\n",
       "      <td>50.550377</td>\n",
       "      <td>34.331175</td>\n",
       "    </tr>\n",
       "    <tr>\n",
       "      <th>50</th>\n",
       "      <td>63</td>\n",
       "      <td>10</td>\n",
       "      <td>3</td>\n",
       "      <td>3872</td>\n",
       "      <td>39.170765</td>\n",
       "      <td>42.857307</td>\n",
       "    </tr>\n",
       "    <tr>\n",
       "      <th>51</th>\n",
       "      <td>63</td>\n",
       "      <td>11</td>\n",
       "      <td>1</td>\n",
       "      <td>0</td>\n",
       "      <td>72.193035</td>\n",
       "      <td>26.040520</td>\n",
       "    </tr>\n",
       "    <tr>\n",
       "      <th>52</th>\n",
       "      <td>63</td>\n",
       "      <td>11</td>\n",
       "      <td>2</td>\n",
       "      <td>551</td>\n",
       "      <td>67.458173</td>\n",
       "      <td>34.993011</td>\n",
       "    </tr>\n",
       "    <tr>\n",
       "      <th>53</th>\n",
       "      <td>63</td>\n",
       "      <td>11</td>\n",
       "      <td>3</td>\n",
       "      <td>4391</td>\n",
       "      <td>45.061476</td>\n",
       "      <td>49.301864</td>\n",
       "    </tr>\n",
       "    <tr>\n",
       "      <th>54</th>\n",
       "      <td>63</td>\n",
       "      <td>13</td>\n",
       "      <td>1</td>\n",
       "      <td>0</td>\n",
       "      <td>114.211208</td>\n",
       "      <td>32.825032</td>\n",
       "    </tr>\n",
       "    <tr>\n",
       "      <th>55</th>\n",
       "      <td>63</td>\n",
       "      <td>13</td>\n",
       "      <td>2</td>\n",
       "      <td>565</td>\n",
       "      <td>101.706916</td>\n",
       "      <td>45.579454</td>\n",
       "    </tr>\n",
       "    <tr>\n",
       "      <th>56</th>\n",
       "      <td>63</td>\n",
       "      <td>13</td>\n",
       "      <td>3</td>\n",
       "      <td>4129</td>\n",
       "      <td>65.875663</td>\n",
       "      <td>61.643344</td>\n",
       "    </tr>\n",
       "    <tr>\n",
       "      <th>57</th>\n",
       "      <td>63</td>\n",
       "      <td>15</td>\n",
       "      <td>1</td>\n",
       "      <td>0</td>\n",
       "      <td>171.803122</td>\n",
       "      <td>47.885419</td>\n",
       "    </tr>\n",
       "    <tr>\n",
       "      <th>58</th>\n",
       "      <td>63</td>\n",
       "      <td>15</td>\n",
       "      <td>2</td>\n",
       "      <td>825</td>\n",
       "      <td>141.368384</td>\n",
       "      <td>59.544360</td>\n",
       "    </tr>\n",
       "    <tr>\n",
       "      <th>59</th>\n",
       "      <td>63</td>\n",
       "      <td>15</td>\n",
       "      <td>3</td>\n",
       "      <td>4183</td>\n",
       "      <td>90.551945</td>\n",
       "      <td>75.908159</td>\n",
       "    </tr>\n",
       "  </tbody>\n",
       "</table>\n",
       "</div>"
      ],
      "text/plain": [
       "     n   t  test  n_overdrives    pgz_time  euclid_time\n",
       "0    7   1     1             0    0.053358     0.203457\n",
       "1    7   1     2            73    0.162503     0.619373\n",
       "2    7   1     3          1494    0.601855     2.322008\n",
       "3   15   1     1             0    0.110557     0.412387\n",
       "4   15   1     2           117    0.210682     0.766882\n",
       "5   15   1     3          1420    0.591846     2.271186\n",
       "6   15   2     1             0    0.491396     0.875439\n",
       "7   15   2     2           212    1.306225     2.579588\n",
       "8   15   2     3          2457    2.399009     5.650297\n",
       "9   15   3     1             0    2.051725     2.412509\n",
       "10  15   3     2           300    3.639027     5.026078\n",
       "11  15   3     3          2589    4.854858     8.815676\n",
       "12  31   1     1             0    0.231470     0.865476\n",
       "13  31   1     2           148    0.218774     0.814881\n",
       "14  31   1     3          1701    0.665201     2.502017\n",
       "15  31   2     1             0    0.535488     0.956363\n",
       "16  31   2     2           174    1.261528     2.501006\n",
       "17  31   2     3          3301    2.641430     6.458144\n",
       "18  31   3     1             0    2.176690     2.694820\n",
       "19  31   3     2           360    3.669877     5.371347\n",
       "20  31   3     3          3777    5.090748    10.333877\n",
       "21  31   5     1             0    8.752275     6.543626\n",
       "22  31   5     2           379   11.367690    11.053808\n",
       "23  31   5     3          3507   11.366011    17.918162\n",
       "24  31   7     1             0   21.832654    12.029697\n",
       "25  31   7     2           645   23.801091    19.197422\n",
       "26  31   7     3          3419   20.467444    26.651836\n",
       "27  63   1     1             0    0.441690     1.593049\n",
       "28  63   1     2           566    0.416728     1.525151\n",
       "29  63   1     3          1782    0.710524     2.594324\n",
       "30  63   2     1             0    1.002094     1.863004\n",
       "31  63   2     2           419    1.597078     3.262952\n",
       "32  63   2     3          2710    2.619277     6.263365\n",
       "33  63   3     1             0    2.832270     3.653784\n",
       "34  63   3     2           268    3.579413     4.974113\n",
       "35  63   3     3          3203    5.103746    10.196848\n",
       "36  63   4     1             0    5.425744     5.307448\n",
       "37  63   4     2           384    6.865499     7.977324\n",
       "38  63   4     3          3974    8.689767    15.465904\n",
       "39  63   5     1             0    9.130939     7.153699\n",
       "40  63   5     2           432   11.159973    10.987796\n",
       "41  63   5     3          4302   12.239836    20.515295\n",
       "42  63   6     1             0   13.800295     8.879763\n",
       "43  63   6     2          1171   16.967506    17.430661\n",
       "44  63   6     3          4354   16.040164    24.986658\n",
       "45  63   7     1             0   21.455190    12.426105\n",
       "46  63   7     2           505   23.513076    18.162182\n",
       "47  63   7     3          4456   20.547171    29.140253\n",
       "48  63  10     1             0   57.738851    25.846090\n",
       "49  63  10     2          1017   50.550377    34.331175\n",
       "50  63  10     3          3872   39.170765    42.857307\n",
       "51  63  11     1             0   72.193035    26.040520\n",
       "52  63  11     2           551   67.458173    34.993011\n",
       "53  63  11     3          4391   45.061476    49.301864\n",
       "54  63  13     1             0  114.211208    32.825032\n",
       "55  63  13     2           565  101.706916    45.579454\n",
       "56  63  13     3          4129   65.875663    61.643344\n",
       "57  63  15     1             0  171.803122    47.885419\n",
       "58  63  15     2           825  141.368384    59.544360\n",
       "59  63  15     3          4183   90.551945    75.908159"
      ]
     },
     "execution_count": 10,
     "metadata": {},
     "output_type": "execute_result"
    }
   ],
   "source": [
    "df_tests[[\"n\",\"t\",\"test\",\"n_overdrives\",\"pgz_time\",\"euclid_time\"]]"
   ]
  },
  {
   "cell_type": "code",
   "execution_count": 138,
   "metadata": {
    "scrolled": false
   },
   "outputs": [
    {
     "data": {
      "image/png": "[encoded data removed]",
      "text/plain": [
       "<Figure size 1224x504 with 3 Axes>"
      ]
     },
     "metadata": {
      "needs_background": "light"
     },
     "output_type": "display_data"
    },
    {
     "data": {
      "image/png": "[encoded data removed]",
      "text/plain": [
       "<Figure size 1224x504 with 3 Axes>"
      ]
     },
     "metadata": {
      "needs_background": "light"
     },
     "output_type": "display_data"
    },
    {
     "data": {
      "image/png": "[encoded data removed]",
      "text/plain": [
       "<Figure size 1224x504 with 3 Axes>"
      ]
     },
     "metadata": {
      "needs_background": "light"
     },
     "output_type": "display_data"
    },
    {
     "data": {
      "image/png": "[encoded data removed]",
      "text/plain": [
       "<Figure size 1224x504 with 3 Axes>"
      ]
     },
     "metadata": {
      "needs_background": "light"
     },
     "output_type": "display_data"
    },
    {
     "data": {
      "image/png": "[encoded data removed]",
      "text/plain": [
       "<Figure size 1224x504 with 3 Axes>"
      ]
     },
     "metadata": {
      "needs_background": "light"
     },
     "output_type": "display_data"
    }
   ],
   "source": [
    "df_time = df_tests[[\"n\", \"t\", \"test\", \"pgz_time\", \"euclid_time\"]]\n",
    "fig, axes = [0]*(len(n_list)+1), [0]*(len(n_list)+1)\n",
    "all_t = [0]*(len(n_list)+1)\n",
    "all_t[0] = df_tests.t.unique()\n",
    "for i in range(len(n_list)+1):\n",
    "    fig[i], axes[i] = plt.subplots(1, 3, sharey=True)\n",
    "    fig[i].set_figheight(7)\n",
    "    fig[i].set_figwidth(17)\n",
    "    if i != 0:\n",
    "        all_t[i] = df_tests[df_tests.n == n_list[i - 1]].t.unique()\n",
    "    for test in range(1, 3 + 1):\n",
    "        if i == 0:\n",
    "            axes[i][test-1].set_title(f'decoding {n_msg} messages, test {test} (all n)')\n",
    "        else:\n",
    "            axes[i][test-1].set_title(f'decoding {n_msg} messages, n = {n_list[i-1]}, test {test}')\n",
    "        axes[i][test-1].set_xlabel('t')\n",
    "        axes[i][test-1].set_ylabel(f'time, s')\n",
    "        axes[i][test-1].set_xticks(all_t[i])\n",
    "for test in range(1, 3 + 1):\n",
    "    for n_idx, n in enumerate(n_list):\n",
    "        df_cur = df_time[(df_time.test == test) & (df_time.n == n)]\n",
    "        first0 = lambda arr: np.concatenate(([0], arr))\n",
    "        plot_rows = [0, n_idx + 1]\n",
    "        for i in plot_rows:\n",
    "            axes[i][test-1].step(first0(df_cur.t.values),\n",
    "                               first0(df_cur.pgz_time.values),\n",
    "                               label=f'    pgz time, n={n}')\n",
    "            axes[i][test-1].step(first0(df_cur.t.values),\n",
    "                               first0(df_cur.euclid_time.values),\n",
    "                               label=f'euclid time, n={n}')\n",
    "            axes[i][test-1].legend(loc='upper left')"
   ]
  },
  {
   "cell_type": "code",
   "execution_count": 139,
   "metadata": {},
   "outputs": [],
   "source": [
    "df_bars = df_tests[[\"n\", \"t\", \"test\", \"pgz_err_ratio\"]]\n",
    "df_b = df_bars[df_bars.test==2].drop(columns=\"test\").rename(columns={\"pgz_err_ratio\":\"test2_err_ratio\"})\n",
    "df_b[\"test3_err_ratio\"] = df_bars[df_bars.test==3].pgz_err_ratio.values"
   ]
  },
  {
   "cell_type": "code",
   "execution_count": 140,
   "metadata": {
    "scrolled": false
   },
   "outputs": [
    {
     "data": {
      "image/png": "[encoded data removed]",
      "text/plain": [
       "<Figure size 720x216 with 1 Axes>"
      ]
     },
     "metadata": {
      "needs_background": "light"
     },
     "output_type": "display_data"
    },
    {
     "data": {
      "image/png": "[encoded data removed]",
      "text/plain": [
       "<Figure size 720x216 with 1 Axes>"
      ]
     },
     "metadata": {
      "needs_background": "light"
     },
     "output_type": "display_data"
    },
    {
     "data": {
      "image/png": "[encoded data removed]",
      "text/plain": [
       "<Figure size 720x216 with 1 Axes>"
      ]
     },
     "metadata": {
      "needs_background": "light"
     },
     "output_type": "display_data"
    },
    {
     "data": {
      "image/png": "[encoded data removed]",
      "text/plain": [
       "<Figure size 720x720 with 1 Axes>"
      ]
     },
     "metadata": {
      "needs_background": "light"
     },
     "output_type": "display_data"
    }
   ],
   "source": [
    "for n_idx, n in enumerate(n_list):\n",
    "    df_b[df_b.n == n].drop(columns='n').plot.bar(\n",
    "        x='t', title=f'n={n}', figsize=(10,3) if n < 63 else (10,10)\n",
    "    )\n",
    "plt.subplots_adjust(wspace=0.15, hspace=0.25) "
   ]
  }
 ],
 "metadata": {
  "kernelspec": {
   "display_name": "Python 3",
   "language": "python",
   "name": "python3"
  },
  "language_info": {
   "codemirror_mode": {
    "name": "ipython",
    "version": 3
   },
   "file_extension": ".py",
   "mimetype": "text/x-python",
   "name": "python",
   "nbconvert_exporter": "python",
   "pygments_lexer": "ipython3",
   "version": "3.7.1"
  }
 },
 "nbformat": 4,
 "nbformat_minor": 2
}
